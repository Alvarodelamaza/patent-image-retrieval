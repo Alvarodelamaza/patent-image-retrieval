{
 "cells": [
  {
   "cell_type": "code",
   "execution_count": 1,
   "metadata": {},
   "outputs": [],
   "source": [
    "import os\n",
    "import torch\n",
    "import json\n",
    "import random\n",
    "import shutil\n",
    "import wandb\n",
    "import pickle \n",
    "import numpy as np\n",
    "import matplotlib.pyplot as plt\n",
    "import matplotlib.patches as patches\n",
    "from PIL import Image\n",
    "from torch.utils.data import DataLoader, Dataset\n",
    "from tqdm import tqdm\n",
    "from pathlib import Path\n",
    "from sklearn.metrics.pairwise import cosine_similarity\n",
    "from collections import defaultdict\n",
    "from transformers import CLIPProcessor, CLIPModel\n",
    "import torch.nn.functional as F\n",
    "import torchvision\n",
    "import torchvision.transforms as transforms\n",
    "from torchvision.models import vit_b_32, ViT_B_32_Weights\n"
   ]
  },
  {
   "cell_type": "markdown",
   "metadata": {},
   "source": [
    "## Test"
   ]
  },
  {
   "cell_type": "code",
   "execution_count": 10,
   "metadata": {},
   "outputs": [],
   "source": [
    "#model_name='fine_tuned_clip_model_ge_cpc_01_2'\n",
    "#model_name='fine_tuned_clip_model_cpc'\n",
    "#model_name='fine_tuned_clip_model_2'\n",
    "#model_name='fine_tuned_clip_model_12_v2'\n",
    "#model_name='clip_model_e2ett_256_2'\n",
    "#model_name='clip_model_e2e_full_256_2_'\n",
    "\n",
    "\n",
    "#model_name='fine_tuned_clip_model_ge_hier_07_new15_best'\n",
    "#model_name='fine_tuned_clip_model_ge_hier_a01_t005_p2_best'\n",
    "model_name='fine_tuned_clip_model_ge_hier_a01_t01_best'\n",
    "#model_name='fine_tuned_clip_model_ge_hier_a02_t01_p_best'\n",
    "\n",
    "#model_name='fine_tuned_clip_model_ge_hier_09_3_10ep_best'\n",
    "#model_name='fine_tuned_clip_model_ge_hier_01_3_v2'\n",
    "#model_name='fine_tuned_clip_model_ge_hier_01_2_5ep'\n",
    "#model_name='fine_tuned_clip_model_ge_hier_01_new_best'\n",
    "#model_name='fine_tuned_clip_model_ge_hier_0_new07_best'\n",
    "#model_name='baseline_clip16'\n",
    "class ImageDataset(Dataset):\n",
    "    def __init__(self, image_paths, transform=None):\n",
    "        self.image_paths = image_paths\n",
    "        self.transform = transform\n",
    "\n",
    "    def __len__(self):\n",
    "        return len(self.image_paths)\n",
    "\n",
    "    def __getitem__(self, idx):\n",
    "        \n",
    "        image = torchvision.io.read_image(self.image_paths[idx])\n",
    "        # Convert to float and normalize to [0, 1]\n",
    "        image = image.float() / 255.0\n",
    "        # Handle grayscale images (1 channel) by repeating to 3 channels\n",
    "        if image.shape[0] == 1:\n",
    "            image = image.repeat(3, 1, 1)\n",
    "        # Ensure we have 3 channels (RGB)\n",
    "        elif image.shape[0] == 4:  # RGBA\n",
    "            image = image[:3]  # Take only RGB channels\n",
    "            \n",
    "        if self.transform:\n",
    "            image = self.transform(image)\n",
    "        return image, self.image_paths[idx]\n",
    "\n",
    "class ImageRetrieval:\n",
    "    def __init__(self, device='cuda' if torch.cuda.is_available() else 'cpu'):\n",
    "        # Load CLIP \n",
    "        self.model = CLIPModel.from_pretrained(f'models/patent-wise/{model_name}').to(device)\n",
    "        #clip_model = CLIPModel.from_pretrained(\"openai/clip-vit-base-patch16\").to(device)\n",
    "    \n",
    "       \n",
    "        # 2. Load the saved state dict from the pickle file\n",
    "        #with open(f'../src/models_storage/hyper/joint_clip_hyperbolic/{model_name}.pkl', 'rb') as f:\n",
    "            #saved_state_dict = pickle.load(f)\n",
    "        #with open(f'../src/models_storage/hyper/joint_clip_hyperbolic//clip_model_best.pt', 'rb') as f:\n",
    "            #saved_state_dict = torch.load(f)\n",
    "        # 3. Load the state dict into your model\n",
    "        #clip_model.load_state_dict(saved_state_dict)\n",
    "        #clip_model = clip_model.to(device)\n",
    "        \n",
    "        #self.model =clip_model\n",
    "        self.model.eval()\n",
    "        self.device = device\n",
    "        self.model_name = model_name \n",
    "        \n",
    "        # Define image transformations for already loaded tensors\n",
    "        self.transform = transforms.Compose([\n",
    "            transforms.Resize((224, 224)),\n",
    "            transforms.Normalize(\n",
    "                mean=[0.48145466, 0.4578275, 0.40821073],\n",
    "                std=[0.26862954, 0.26130258, 0.27577711]\n",
    "            )\n",
    "        ])\n",
    "        \n",
    "        self.embeddings = None\n",
    "        self.image_paths = None\n",
    "\n",
    "    @torch.no_grad()\n",
    "    def encode_dataset(self, image_paths, batch_size=128):\n",
    "        \"\"\"Encode all images in the dataset\"\"\"\n",
    "        dataset = ImageDataset(image_paths, self.transform)\n",
    "        dataloader = DataLoader(\n",
    "            dataset,\n",
    "            batch_size=128,\n",
    "            shuffle=True,\n",
    "            num_workers=16,\n",
    "            pin_memory=True,\n",
    "            prefetch_factor=8,\n",
    "            persistent_workers=True\n",
    "        )\n",
    "\n",
    "        all_embeddings = []\n",
    "        all_paths = []\n",
    "        \n",
    "        print(\"Encoding dataset...\")\n",
    "        for images, paths in tqdm(dataloader):\n",
    "            images = images.to(self.device)\n",
    "            \n",
    "            embeddings = self.model.get_image_features(pixel_values=images)\n",
    "            all_embeddings.append(embeddings.cpu().numpy())\n",
    "            all_paths.extend(paths)\n",
    "        \n",
    "        self.embeddings = np.vstack(all_embeddings)\n",
    "        self.image_paths = all_paths\n",
    "        print(f\"Encoded {len(self.image_paths)} images\")\n",
    "\n",
    "        # Save embeddings to file\n",
    "        np.save(f'embeddings/{model_name}.npy', self.embeddings)\n",
    "        with open(f'embeddings/{model_name}.json', 'w') as f:\n",
    "            json.dump(all_paths, f)\n",
    "\n",
    "    def load_embeddings(self):\n",
    "        \"\"\"Load embeddings from file if they exist\"\"\"\n",
    "        if os.path.exists(f'embeddings/{model_name}.npy') and os.path.exists(f'embeddings/{model_name}.json'):\n",
    "            self.embeddings = np.load(f'embeddings/{model_name}.npy')\n",
    "            with open(f'embeddings/{model_name}.json', 'r') as f:\n",
    "                self.image_paths = json.load(f)\n",
    "            print(f\"Loaded {len(self.image_paths)} embeddings from file.\")\n",
    "        else:\n",
    "            print(\"No embeddings found. Please encode the dataset first.\")\n",
    "\n",
    "    @torch.no_grad()\n",
    "    def encode_single_image(self, image_path):\n",
    "        \"\"\"Encode a single test image\"\"\"\n",
    "        # Using torchvision.io instead of PIL\n",
    "        image = torchvision.io.read_image(image_path)\n",
    "        # Convert to float and normalize to [0, 1]\n",
    "        image = image.float() / 255.0\n",
    "        # Handle grayscale images (1 channel) by repeating to 3 channels\n",
    "        if image.shape[0] == 1:\n",
    "            image = image.repeat(3, 1, 1)\n",
    "        # Ensure we have 3 channels (RGB)\n",
    "        elif image.shape[0] == 4:  # RGBA\n",
    "            image = image[:3]  # Take only RGB channels\n",
    "            \n",
    "        # Apply transform\n",
    "        if self.transform:\n",
    "            image = self.transform(image)\n",
    "        \n",
    "        # Add batch dimension and move to device\n",
    "        inputs = image.unsqueeze(0).to(self.device)\n",
    "        \n",
    "        # Get image features\n",
    "        embedding = self.model.get_image_features(pixel_values=inputs)\n",
    "        return embedding.cpu().numpy()\n",
    "\n",
    "    def retrieve_similar_images(self, query_image_path, k=20):\n",
    "        \"\"\"Retrieve k most similar images\"\"\"\n",
    "        if self.embeddings is None:\n",
    "            raise ValueError(\"No database embeddings found. Please encode dataset first.\")\n",
    "        \n",
    "        # Encode query image\n",
    "        query_embedding = self.encode_single_image(query_image_path)\n",
    "        \n",
    "        # Compute cosine similarities\n",
    "        similarities = cosine_similarity(query_embedding, self.embeddings)[0]\n",
    "        \n",
    "        # Get top k similar images\n",
    "        top_k_idx = np.argsort(similarities)[-k:][::-1]\n",
    "        top_k_similarities = similarities[top_k_idx]\n",
    "        top_k_paths = [self.image_paths[idx] for idx in top_k_idx]\n",
    "        \n",
    "        return list(zip(top_k_paths, top_k_similarities))\n",
    "\n",
    "\n"
   ]
  },
  {
   "cell_type": "code",
   "execution_count": 11,
   "metadata": {},
   "outputs": [
    {
     "name": "stdout",
     "output_type": "stream",
     "text": [
      "Found 71955 images in the gallery\n",
      "Loaded 71955 embeddings from file.\n",
      "\n",
      "Encoding query images in batches...\n"
     ]
    },
    {
     "name": "stderr",
     "output_type": "stream",
     "text": [
      "100%|██████████| 16/16 [00:06<00:00,  2.30it/s]\n"
     ]
    },
    {
     "name": "stdout",
     "output_type": "stream",
     "text": [
      "Computing similarities...\n",
      "Processing results...\n"
     ]
    },
    {
     "name": "stderr",
     "output_type": "stream",
     "text": [
      "100%|██████████| 1953/1953 [08:15<00:00,  3.94it/s]"
     ]
    },
    {
     "name": "stdout",
     "output_type": "stream",
     "text": [
      "\n",
      "Retrieval Metrics:\n",
      "MRR: 0.709\n",
      "MRR@5: 0.700\n",
      "MRR@20: 0.707\n",
      "mAP: 0.348\n",
      "mNDCG: 0.576\n",
      "Recall@5: 0.313\n",
      "Recall@10: 0.381\n",
      "Recall@20: 0.445\n",
      "Precision@5: 0.351\n",
      "Precision@10: 0.227\n",
      "Precision@20: 0.138\n"
     ]
    },
    {
     "name": "stderr",
     "output_type": "stream",
     "text": [
      "\n"
     ]
    }
   ],
   "source": [
    "if __name__ == \"__main__\":\n",
    "    # Initialize retrieval system\n",
    "    retrieval = ImageRetrieval()\n",
    "    \n",
    "    # Read all images from the gallery folder\n",
    "    gallery_folder = \"../data/2019/test_gallery_comp\"\n",
    "    query_folder = \"../data/2019/test_query_comp\"\n",
    "    \n",
    "    # Load ground truth\n",
    "    with open('../data/2019/ground_truth_2019.json', 'r') as f:\n",
    "        ground_truth = json.load(f)\n",
    "    \n",
    "\n",
    "    valid_extensions = {'.jpg', '.jpeg', '.png', '.JPG', '.JPEG', '.PNG'}\n",
    "    \n",
    "    gallery_image_paths = [\n",
    "        str(path) for path in Path(gallery_folder).rglob(\"*\")\n",
    "        if path.suffix in valid_extensions\n",
    "    ]\n",
    "    \n",
    "    print(f\"Found {len(gallery_image_paths)} images in the gallery\")\n",
    "    \n",
    "    \n",
    "    retrieval.load_embeddings()\n",
    "    \n",
    "    # If embeddings are not loaded, encode the dataset\n",
    "    if retrieval.embeddings is None:\n",
    "        retrieval.encode_dataset(gallery_image_paths)\n",
    "\n",
    "    query_image_paths = [\n",
    "        str(path) for path in Path(query_folder).rglob(\"*\")\n",
    "        if path.suffix in valid_extensions\n",
    "    ]\n",
    "     \n",
    "    def calculate_mrr_at_k(retrieved_paths, positives, k):\n",
    "        \"\"\"\n",
    "        Calculate MRR@k for a single query\n",
    "        \"\"\"\n",
    "        for rank, path in enumerate(retrieved_paths[:k], 1):\n",
    "            if path in positives:\n",
    "                return 1.0 / rank\n",
    "        return 0.0\n",
    "    def calculate_precision_at_k(retrieved_paths, positives, k):\n",
    "        \"\"\"\n",
    "        Calculate precision@k for the single query\n",
    "        \"\"\"\n",
    "        retrieved_at_k = retrieved_paths[:k]\n",
    "        relevant_at_k = len(set(retrieved_at_k).intersection(positives))\n",
    "        return relevant_at_k / k if k <= len(retrieved_paths) else 0.0\n",
    "\n",
    "    # Evaluation metrics\n",
    "    ap_scores = []\n",
    "    ndcg_scores = []\n",
    "    recall_5 = []\n",
    "    recall_10 = []\n",
    "    recall_20 = []\n",
    "    reciprocal_ranks = []  # Overall MRR\n",
    "    reciprocal_ranks_5 = []  # MRR@5\n",
    "    reciprocal_ranks_20 = []# MRR@20\n",
    "    precision_5 = []  # Precision@5\n",
    "    precision_10 = []  # Precision@10\n",
    "    precision_20 = []  # Precision@20\n",
    "    \n",
    "    \n",
    "    \n",
    "    query_dataset = ImageDataset(query_image_paths, retrieval.transform)\n",
    "    query_dataloader = DataLoader(\n",
    "        query_dataset,\n",
    "        batch_size=128,  # Adjust batch size as needed\n",
    "        shuffle=False,  # Keep order for evaluation\n",
    "        num_workers=16,\n",
    "        pin_memory=True,\n",
    "        prefetch_factor=4,\n",
    "        persistent_workers=True\n",
    "    )\n",
    "\n",
    "    # Encode all query images in batches\n",
    "    print(\"\\nEncoding query images in batches...\")\n",
    "    all_query_embeddings = []\n",
    "    all_query_paths = []\n",
    "    with torch.no_grad():\n",
    "        for batch_images, batch_paths in tqdm(query_dataloader):\n",
    "            batch_images = batch_images.to(retrieval.device)\n",
    "            batch_embeddings = retrieval.model.get_image_features(pixel_values=batch_images)\n",
    "            all_query_embeddings.append(batch_embeddings.cpu().numpy())\n",
    "            all_query_paths.extend(batch_paths)\n",
    "\n",
    "    # Concatenate all embeddings\n",
    "    all_query_embeddings = np.vstack(all_query_embeddings)\n",
    "\n",
    "    # Calculate similarities for all queries at once\n",
    "    print(\"Computing similarities...\")\n",
    "    all_similarities = cosine_similarity(all_query_embeddings, retrieval.embeddings)\n",
    "    count=0\n",
    "    # Process each query result\n",
    "    print(\"Processing results...\")\n",
    "    for i, query_path in enumerate(tqdm(all_query_paths)):\n",
    "        query_name = Path(query_path).name\n",
    "        if query_name not in list(ground_truth.keys()):\n",
    "            count+=1\n",
    "            continue\n",
    "        \n",
    "        \n",
    "        # Get similarities for this query\n",
    "        similarities = all_similarities[i]\n",
    "        \n",
    "        # Get top k indices\n",
    "        top_k_idx = np.argsort(similarities)[::-1]\n",
    "        retrieved_paths = [Path(retrieval.image_paths[idx]).name for idx in top_k_idx]\n",
    "        \n",
    "        # Get ground truth positives\n",
    "        positives = set(ground_truth[query_name]['patent_positives'])\n",
    "        \n",
    "        # Calculate MRR, MRR@5, and MRR@20\n",
    "        # Overall MRR\n",
    "        mrr = calculate_mrr_at_k(retrieved_paths, positives, len(retrieved_paths))\n",
    "        reciprocal_ranks.append(mrr)\n",
    "        \n",
    "        # MRR@5\n",
    "        mrr_5 = calculate_mrr_at_k(retrieved_paths, positives, 5)\n",
    "        reciprocal_ranks_5.append(mrr_5)\n",
    "        \n",
    "        # MRR@20\n",
    "        mrr_20 = calculate_mrr_at_k(retrieved_paths, positives, 20)\n",
    "        reciprocal_ranks_20.append(mrr_20)\n",
    "        \n",
    "        # Calculate Precision@5 and Precision@10 for the single query\n",
    "        precision_at_5 = calculate_precision_at_k(retrieved_paths, positives, 5)\n",
    "        precision_at_10 = calculate_precision_at_k(retrieved_paths, positives, 10)\n",
    "        precision_at_20 = calculate_precision_at_k(retrieved_paths, positives, 20)\n",
    "        precision_5.append(precision_at_5)\n",
    "        precision_10.append(precision_at_10)\n",
    "        precision_20.append(precision_at_20)\n",
    "        \n",
    "        # Calculate other metrics\n",
    "        # AP calculation\n",
    "        relevant = 0\n",
    "        ap = 0\n",
    "        for j, path in enumerate(retrieved_paths, 1):\n",
    "            if path in positives:\n",
    "                relevant += 1\n",
    "                precision = relevant / j\n",
    "                ap += precision\n",
    "        ap = ap / len(positives) if len(positives) > 0 else 0\n",
    "        ap_scores.append(ap)\n",
    "        # AP calculation\n",
    "        relevant = 0\n",
    "        ap = 0\n",
    "        for j, path in enumerate(retrieved_paths, 1):\n",
    "            if path in positives:\n",
    "                relevant += 1\n",
    "                precision = relevant / j\n",
    "                ap += precision\n",
    "        ap = ap / len(positives) if len(positives) > 0 else 0\n",
    "        # NDCG calculation\n",
    "        dcg = 0\n",
    "        idcg = sum(1 / np.log2(j + 2) for j in range(len(positives)))\n",
    "        for j, path in enumerate(retrieved_paths):\n",
    "            if path in positives:\n",
    "                dcg += 1 / np.log2(j + 2)\n",
    "        ndcg = dcg / idcg if idcg > 0 else 0\n",
    "        ndcg_scores.append(ndcg)\n",
    "        \n",
    "        # Recall@k calculation\n",
    "        for k, recall_list in [(5, recall_5), (10, recall_10), (20, recall_20)]:\n",
    "            retrieved_at_k = set(retrieved_paths[:k])\n",
    "            recall = len(retrieved_at_k.intersection(positives)) / len(positives) if len(positives) > 0 else 0\n",
    "            recall_list.append(recall)\n",
    "    \n",
    "    # Calculate final metrics\n",
    "    mrr = np.mean(reciprocal_ranks)\n",
    "    mrr_5 = np.mean(reciprocal_ranks_5)\n",
    "    mrr_20 = np.mean(reciprocal_ranks_20)\n",
    "    mAP = np.mean(ap_scores)\n",
    "    mNDCG = np.mean(ndcg_scores)\n",
    "    mRecall_5 = np.mean(recall_5)\n",
    "    mRecall_10 = np.mean(recall_10)\n",
    "    mRecall_20 = np.mean(recall_20)\n",
    "    avg_precision_5 = np.mean(precision_5)\n",
    "    avg_precision_10 = np.mean(precision_10)\n",
    "    avg_precision_20 = np.mean(precision_20)\n",
    "    \n",
    "    # Print results\n",
    "    print(\"\\nRetrieval Metrics:\")\n",
    "    print(f\"MRR: {mrr:.3f}\")\n",
    "    print(f\"MRR@5: {mrr_5:.3f}\")\n",
    "    print(f\"MRR@20: {mrr_20:.3f}\")\n",
    "    print(f\"mAP: {mAP:.3f}\")\n",
    "    print(f\"mNDCG: {mNDCG:.3f}\")\n",
    "    print(f\"Recall@5: {mRecall_5:.3f}\")\n",
    "    print(f\"Recall@10: {mRecall_10:.3f}\")\n",
    "    print(f\"Recall@20: {mRecall_20:.3f}\")\n",
    "    print(f\"Precision@5: {avg_precision_5:.3f}\")\n",
    "    print(f\"Precision@10: {avg_precision_10:.3f}\")\n",
    "    print(f\"Precision@20: {avg_precision_20:.3f}\")\n",
    "    \n",
    "    # Save results to file\n",
    "    results = {\n",
    "        'MRR': mrr,\n",
    "        'MRR@5': mrr_5,\n",
    "        'MRR@20': mrr_20,\n",
    "        'mAP': mAP,\n",
    "        'mNDCG': mNDCG,\n",
    "        'Recall@5': mRecall_5,\n",
    "        'Recall@10': mRecall_10,\n",
    "        'Recall@20': mRecall_20,\n",
    "        'Precision@5': avg_precision_5,\n",
    "        'Precision@10': avg_precision_10,\n",
    "        'Precision@20': avg_precision_20\n",
    "    }\n",
    "    \n",
    "    # Save detailed results for analysis\n",
    "    detailed_results = {\n",
    "        'query_wise_metrics': {\n",
    "            'reciprocal_ranks': reciprocal_ranks,\n",
    "            'reciprocal_ranks@5': reciprocal_ranks_5,\n",
    "            'reciprocal_ranks@20': reciprocal_ranks_20,\n",
    "            'ap_scores': ap_scores,\n",
    "            'ndcg_scores': ndcg_scores,\n",
    "            'recall_5': recall_5,\n",
    "            'recall_10': recall_10,\n",
    "            'recall_20': recall_20,\n",
    "            'precision_5': precision_5,\n",
    "            'precision_10': precision_10,\n",
    "            'precision_20': precision_20\n",
    "        },\n",
    "        'summary_metrics': results\n",
    "    }\n",
    "    \n",
    "    with open(f'results/evaluation_results_{model_name}3jtarde.json', 'w') as f:\n",
    "    #with open(f'results/evaluation_results_hyper_proj_cpc.json', 'w') as f:\n",
    "        json.dump(detailed_results, f, indent=2)"
   ]
  },
  {
   "cell_type": "code",
   "execution_count": null,
   "metadata": {},
   "outputs": [],
   "source": [
    "0.1 0\n",
    "\n",
    "MRR: 0.783\n",
    "MRR@5: 0.773\n",
    "MRR@20: 0.781\n",
    "mAP: 0.132\n",
    "mNDCG: 0.644\n",
    "Recall@5: 0.070\n",
    "Recall@10: 0.088\n",
    "Recall@20: 0.104\n",
    "Precision@5: 0.450\n",
    "Precision@10: 0.317\n",
    "Precision@20: 0.216\n",
    "\n",
    "0.1 0.1\n",
    "MRR: 0.770\n",
    "MRR@5: 0.759\n",
    "MRR@20: 0.768\n",
    "mAP: 0.128\n",
    "mNDCG: 0.640\n",
    "Recall@5: 0.067\n",
    "Recall@10: 0.083\n",
    "Recall@20: 0.099\n",
    "Precision@5: 0.430\n",
    "Precision@10: 0.307\n",
    "Precision@20: 0.211\n",
    "hoy\n",
    "MRR: 0.785\n",
    "MRR@5: 0.775\n",
    "MRR@20: 0.783\n",
    "mAP: 0.132\n",
    "mNDCG: 0.645\n",
    "Recall@5: 0.071\n",
    "Recall@10: 0.087\n",
    "Recall@20: 0.103\n",
    "Precision@5: 0.446\n",
    "Precision@10: 0.316\n",
    "Precision@20: 0.217\n",
    "Retrieval Metrics:\n",
    "MRR: 0.709\n",
    "MRR@5: 0.700\n",
    "MRR@20: 0.707\n",
    "mAP: 0.348\n",
    "mNDCG: 0.576\n",
    "Recall@5: 0.313\n",
    "Recall@10: 0.381\n",
    "Recall@20: 0.445\n",
    "Precision@5: 0.351\n",
    "Precision@10: 0.227\n",
    "Precision@20: 0.138\n",
    "\n",
    "\n",
    "0.1 0.7\n",
    "MRR: 0.749\n",
    "MRR@5: 0.737\n",
    "MRR@20: 0.746\n",
    "mAP: 0.123\n",
    "mNDCG: 0.636\n",
    "Recall@5: 0.064\n",
    "Recall@10: 0.080\n",
    "Recall@20: 0.095\n",
    "Precision@5: 0.415\n",
    "Precision@10: 0.292\n",
    "Precision@20: 0.202\n",
    "\n",
    "0.05 0.2\n",
    "MRR: 0.811\n",
    "MRR@5: 0.802\n",
    "MRR@20: 0.809\n",
    "mAP: 0.139\n",
    "mNDCG: 0.651\n",
    "Recall@5: 0.076\n",
    "Recall@10: 0.095\n",
    "Recall@20: 0.111\n",
    "Precision@5: 0.472\n",
    "Precision@10: 0.332\n",
    "Precision@20: 0.227\n",
    "MRR: 0.734\n",
    "MRR@5: 0.726\n",
    "MRR@20: 0.732\n",
    "mAP: 0.374\n",
    "mNDCG: 0.597\n",
    "Recall@5: 0.334\n",
    "Recall@10: 0.406\n",
    "Recall@20: 0.471\n",
    "Precision@5: 0.375\n",
    "Precision@10: 0.240\n",
    "Precision@20: 0.146\n",
    "\n",
    "0.05 0.1\n",
    "MRR: 0.813\n",
    "MRR@5: 0.805\n",
    "MRR@20: 0.812\n",
    "mAP: 0.139\n",
    "mNDCG: 0.651\n",
    "Recall@5: 0.077\n",
    "Recall@10: 0.096\n",
    "Recall@20: 0.111\n",
    "Precision@5: 0.479\n",
    "Precision@10: 0.338\n",
    "Precision@20: 0.228\n",
    "\n",
    "proj 0.1\n",
    "MRR: 0.820\n",
    "MRR@5: 0.812\n",
    "MRR@20: 0.818\n",
    "mAP: 0.140\n",
    "mNDCG: 0.652\n",
    "Recall@5: 0.078\n",
    "Recall@10: 0.097\n",
    "Recall@20: 0.113\n",
    "Precision@5: 0.485\n",
    "Precision@10: 0.341\n",
    "Precision@20: 0.229\n",
    "\n",
    "New pj double\n",
    "MRR: 0.795\n",
    "MRR@5: 0.786\n",
    "MRR@20: 0.794\n",
    "mAP: 0.137\n",
    "mNDCG: 0.648\n",
    "Recall@5: 0.074\n",
    "Recall@10: 0.092\n",
    "Recall@20: 0.108\n",
    "Precision@5: 0.453\n",
    "Precision@10: 0.321\n",
    "Precision@20: 0.220"
   ]
  },
  {
   "cell_type": "code",
   "execution_count": 6,
   "metadata": {},
   "outputs": [
    {
     "name": "stdout",
     "output_type": "stream",
     "text": [
      "write succeeded\n"
     ]
    }
   ],
   "source": [
    "import os, errno, pathlib\n",
    "path = pathlib.Path(\"embeddings/probe.bin\")\n",
    "path.touch(exist_ok=True)\n",
    "\n",
    "try:\n",
    "    with path.open(\"wb\", buffering=0) as f:          # unbuffered, single write\n",
    "        f.write(b\"\\0\" * 40_000_000)                  # 40 MB\n",
    "except OSError as e:\n",
    "    print(\"write failed:\", e, \"(errno\", e.errno, \")\")\n",
    "else:\n",
    "    print(\"write succeeded\")\n"
   ]
  },
  {
   "cell_type": "markdown",
   "metadata": {},
   "source": [
    "## Graph"
   ]
  },
  {
   "cell_type": "markdown",
   "metadata": {},
   "source": [
    "### preprocess"
   ]
  },
  {
   "cell_type": "code",
   "execution_count": 2,
   "metadata": {},
   "outputs": [],
   "source": [
    "def check_validation_pairs_same_patent(val_anchor_paths, val_positive_paths):\n",
    "    \n",
    "    \"\"\" Checks if each validation pair (anchor and positive image) belong to the same patent.\n",
    "\n",
    "    The function assumes that the patent ID is the first part of the filename,\n",
    "    separated by a hyphen. For example, for a filename \"12345-sample.jpg\", the patent ID is \"12345\".\n",
    "\n",
    "    Args:\n",
    "        val_anchor_paths (list): List of paths for anchor images in the validation set.\n",
    "        val_positive_paths (list): List of paths for positive images in the validation set.\n",
    "        \n",
    "    Returns:\n",
    "        mismatches (list): A list of tuples where each tuple contains:\n",
    "            (anchor_path, positive_path, anchor_patent_id, positive_patent_id)\n",
    "            for pairs that do not have the same patent.\n",
    "    \"\"\"\n",
    "    mismatches = []\n",
    "    \n",
    "\n",
    "    # Loop over both lists simultaneously\n",
    "    for anchor_path, positive_path in zip(val_anchor_paths, val_positive_paths):\n",
    "        anchor_filename = os.path.basename(anchor_path)\n",
    "        positive_filename = os.path.basename(positive_path)\n",
    "        \n",
    "        # Extract the patent ID (assumes it's before the first hyphen)\n",
    "        anchor_patent = anchor_filename.split('-')[0]\n",
    "        positive_patent = positive_filename.split('-')[0]\n",
    "        \n",
    "        if anchor_patent != positive_patent:\n",
    "            mismatches.append((anchor_path, positive_path, anchor_patent, positive_patent))\n",
    "\n",
    "    if mismatches:\n",
    "        print(f\"Found {len(mismatches)} validation pairs that do not belong to the same patent:\")\n",
    "        for anchor, positive, a_patent, p_patent in mismatches:\n",
    "            print(f\"Anchor: {anchor} (Patent: {a_patent}) | Positive: {positive} (Patent: {p_patent})\")\n",
    "    else:\n",
    "        print(\"All validation pairs belong to the same patent.\")\n",
    "\n",
    "    return mismatches\n"
   ]
  },
  {
   "cell_type": "code",
   "execution_count": 3,
   "metadata": {},
   "outputs": [],
   "source": [
    "def check_validation_pairs_same_patent(val_anchor_paths, val_positive_paths):\n",
    "    \n",
    "    \"\"\" Checks if each validation pair (anchor and positive image) belong to the same patent.\n",
    "\n",
    "    The function assumes that the patent ID is the first part of the filename,\n",
    "    separated by a hyphen. For example, for a filename \"12345-sample.jpg\", the patent ID is \"12345\".\n",
    "\n",
    "    Args:\n",
    "        val_anchor_paths (list): List of paths for anchor images in the validation set.\n",
    "        val_positive_paths (list): List of paths for positive images in the validation set.\n",
    "        \n",
    "    Returns:\n",
    "        mismatches (list): A list of tuples where each tuple contains:\n",
    "            (anchor_path, positive_path, anchor_patent_id, positive_patent_id)\n",
    "            for pairs that do not have the same patent.\n",
    "    \"\"\"\n",
    "    mismatches = []\n",
    "    \n",
    "\n",
    "    # Loop over both lists simultaneously\n",
    "    for anchor_path, positive_path in zip(val_anchor_paths, val_positive_paths):\n",
    "        anchor_filename = os.path.basename(anchor_path)\n",
    "        positive_filename = os.path.basename(positive_path)\n",
    "        \n",
    "        # Extract the patent ID (assumes it's before the first hyphen)\n",
    "        anchor_patent = anchor_filename.split('-')[0]\n",
    "        positive_patent = positive_filename.split('-')[0]\n",
    "        \n",
    "        if anchor_patent != positive_patent:\n",
    "            mismatches.append((anchor_path, positive_path, anchor_patent, positive_patent))\n",
    "\n",
    "    if mismatches:\n",
    "        print(f\"Found {len(mismatches)} validation pairs that do not belong to the same patent:\")\n",
    "        for anchor, positive, a_patent, p_patent in mismatches:\n",
    "            print(f\"Anchor: {anchor} (Patent: {a_patent}) | Positive: {positive} (Patent: {p_patent})\")\n",
    "    else:\n",
    "        print(\"All validation pairs belong to the same patent.\")\n",
    "\n",
    "    return mismatches\n"
   ]
  },
  {
   "cell_type": "code",
   "execution_count": 4,
   "metadata": {},
   "outputs": [],
   "source": [
    "def check_patent_overlap(train_anchor_paths, val_anchor_paths):\n",
    "    \"\"\"\n",
    "    Check if there are patents present in both training and validation sets\n",
    "    by comparing the first 10 digits of the image names.\n",
    "    \n",
    "    Args:\n",
    "        train_anchor_paths: List of training image paths\n",
    "        val_anchor_paths: List of validation image paths\n",
    "        \n",
    "    Returns:\n",
    "        overlap_count: Number of overlapping patents\n",
    "        overlap_patents: Set of overlapping patent IDs\n",
    "    \"\"\"\n",
    "    # Extract patent IDs (first 10 digits of filename) from training set\n",
    "    train_patents = set()\n",
    "    for path in train_anchor_paths:\n",
    "        filename = os.path.basename(path)\n",
    "        # Extract the patent ID (first 10 digits)\n",
    "        patent_id = filename[:19]\n",
    "        train_patents.add(patent_id)\n",
    "    \n",
    "    # Extract patent IDs from validation set\n",
    "    val_patents = set()\n",
    "    overlap_patents = set()\n",
    "    \n",
    "    for path in val_anchor_paths:\n",
    "        filename = os.path.basename(path)\n",
    "        # Extract the patent ID (first 10 digits)\n",
    "        patent_id = filename[:19]\n",
    "        val_patents.add(patent_id)\n",
    "        \n",
    "        # Check if this patent is also in the training set\n",
    "        if patent_id in train_patents:\n",
    "            overlap_patents.add(patent_id)\n",
    "    \n",
    "    overlap_count = len(overlap_patents)\n",
    "    \n",
    "    # Print results\n",
    "    print(f\"Training set: {len(train_patents)} unique patents\")\n",
    "    print(f\"Validation set: {len(val_patents)} unique patents\")\n",
    "    print(f\"Overlap: {overlap_count} patents present in both sets ({overlap_count/len(val_patents)*100:.2f}% of validation)\")\n",
    "    \n",
    "    if overlap_count > 0:\n",
    "        print(\"First 5 overlapping patents:\", list(overlap_patents))\n",
    "    \n",
    "    return overlap_count, overlap_patents"
   ]
  },
  {
   "cell_type": "code",
   "execution_count": 5,
   "metadata": {},
   "outputs": [],
   "source": [
    "\n",
    "#with open('../src/graph_embeddings/image_ge_embeddings_GE_256_d512_l0.002_20_3_5ep.pkl', 'rb') as f:\n",
    "with open('../src/graph_embeddings/image_ge_embeddings_GE_256_d512_l0.002_20_3.pkl', 'rb') as f:\n",
    "  \n",
    "    image_dict = pickle.load(f)"
   ]
  },
  {
   "cell_type": "code",
   "execution_count": 9,
   "metadata": {},
   "outputs": [
    {
     "data": {
      "text/plain": [
       "'USD0806366-20180102-D00002_3.png'"
      ]
     },
     "execution_count": 9,
     "metadata": {},
     "output_type": "execute_result"
    }
   ],
   "source": [
    "list(image_dict)[0]"
   ]
  },
  {
   "cell_type": "code",
   "execution_count": 16,
   "metadata": {},
   "outputs": [
    {
     "name": "stdout",
     "output_type": "stream",
     "text": [
      "Selected query image: USD0806928-20180102-D00001_1.png\n"
     ]
    },
    {
     "data": {
      "image/png": "[encoded data removed]",
      "text/plain": [
       "<Figure size 1000x800 with 1 Axes>"
      ]
     },
     "metadata": {},
     "output_type": "display_data"
    }
   ],
   "source": [
    "import pickle\n",
    "import json\n",
    "import numpy as np\n",
    "from sklearn.manifold import TSNE\n",
    "import matplotlib.pyplot as plt\n",
    "import random\n",
    "\n",
    "# ——— Parameters ———\n",
    "EMB_PATH   = '../src/graph_embeddings/image_ge_embeddings_GE_256_d512_l0.002_20_3.pkl'\n",
    "GT_JSON    = '../data/2018/ground_truth_2018_cpc.json'   # path to your JSON file\n",
    "# You can hard-code a key here:\n",
    "# QUERY_IMG = 'USD0836880-20190101-D00001_1.png'\n",
    "# Or pick one at random:\n",
    "# (below we load the JSON first)\n",
    "\n",
    "# ——— Load data ———\n",
    "with open(EMB_PATH, 'rb') as f:\n",
    "    image_dict = pickle.load(f)\n",
    "\n",
    "with open(GT_JSON, 'r') as f:\n",
    "    gt = json.load(f)\n",
    "\n",
    "# ——— Choose one query image ———\n",
    "all_queries = list(gt.keys())\n",
    "QUERY_IMG = 'USD0806928-20180102-D00001_1.png'\n",
    "print(f\"Selected query image: {QUERY_IMG}\")\n",
    "\n",
    "# ——— Prepare embeddings & t-SNE ———\n",
    "filenames = list(image_dict.keys())\n",
    "embeddings = np.stack([image_dict[f] for f in filenames])\n",
    "\n",
    "tsne = TSNE(n_components=2, random_state=42)\n",
    "emb2d = tsne.fit_transform(embeddings)\n",
    "\n",
    "# Mapping filename → 2D point\n",
    "idx_map = {fn: i for i, fn in enumerate(filenames)}\n",
    "\n",
    "# ——— Get CPC positives for our query ———\n",
    "cpc_list = gt[QUERY_IMG]['cpc_positives']\n",
    "# Filter to those actually in your embeddings dict\n",
    "cpc_list = [fn for fn in cpc_list if fn in idx_map]\n",
    "\n",
    "# ——— Plot ———\n",
    "plt.figure(figsize=(10, 8))\n",
    "\n",
    "# Background: all points in light gray\n",
    "plt.scatter(emb2d[:, 0], emb2d[:, 1], c='lightgray', s=10, label='All images')\n",
    "\n",
    "# Highlight CPC-positives\n",
    "xs = [emb2d[idx_map[fn], 0] for fn in cpc_list]\n",
    "ys = [emb2d[idx_map[fn], 1] for fn in cpc_list]\n",
    "plt.scatter(xs, ys, c='C3', s=40, label='CPC positives')\n",
    "\n",
    "# Optionally highlight the query itself\n",
    "qx, qy = emb2d[idx_map[QUERY_IMG]]\n",
    "plt.scatter([qx], [qy], c='black', s=60, marker='*', label='Query image')\n",
    "\n",
    "plt.title(f\"t-SNE of Embeddings — CPC positives for\\n{QUERY_IMG}\")\n",
    "plt.xlabel('Component 1')\n",
    "plt.ylabel('Component 2')\n",
    "plt.legend(loc='best')\n",
    "plt.tight_layout()\n",
    "plt.show()\n"
   ]
  },
  {
   "cell_type": "code",
   "execution_count": 6,
   "metadata": {},
   "outputs": [],
   "source": [
    "# ---- Patent-aware split logic ---- #\n",
    "def extract_patent_number_from_path(path):\n",
    "    return Path(path).name.split('-')[0]\n",
    "\n",
    "def create_patent_aware_split(anchors, positives, val_ratio=0.2):\n",
    "    patent_to_indices = {}\n",
    "    for i, path in enumerate(anchors):\n",
    "        patent = extract_patent_number_from_path(path)\n",
    "        if patent not in patent_to_indices:\n",
    "            patent_to_indices[patent] = []\n",
    "        patent_to_indices[patent].append(i)\n",
    "\n",
    "    all_patents = list(patent_to_indices.keys())\n",
    "    random.shuffle(all_patents)\n",
    "    val_patents = set(all_patents[:int(len(all_patents) * val_ratio)])\n",
    "\n",
    "    train_anchor_paths, train_positive_paths, val_anchor_paths, val_positive_paths = [], [], [], []\n",
    "\n",
    "    for patent, indices in patent_to_indices.items():\n",
    "        for i in indices:\n",
    "            if patent in val_patents:\n",
    "                val_anchor_paths.append(anchors[i])\n",
    "                val_positive_paths.append(positives[i])\n",
    "            else:\n",
    "                train_anchor_paths.append(anchors[i])\n",
    "                train_positive_paths.append(positives[i])\n",
    "\n",
    "    return train_anchor_paths, train_positive_paths, val_anchor_paths, val_positive_paths\n",
    "\n",
    "def check_patent_overlap(train_paths, val_paths):\n",
    "    train_patents = set(extract_patent_number_from_path(p) for p in train_paths)\n",
    "    val_patents = set(extract_patent_number_from_path(p) for p in val_paths)\n",
    "    overlap = train_patents.intersection(val_patents)\n",
    "    return len(overlap), overlap\n"
   ]
  },
  {
   "cell_type": "markdown",
   "metadata": {},
   "source": [
    "### Fine tuning"
   ]
  },
  {
   "cell_type": "code",
   "execution_count": 7,
   "metadata": {},
   "outputs": [
    {
     "name": "stderr",
     "output_type": "stream",
     "text": [
      "\u001b[34m\u001b[1mwandb\u001b[0m: Using wandb-core as the SDK backend.  Please refer to https://wandb.me/wandb-core for more information.\n",
      "\u001b[34m\u001b[1mwandb\u001b[0m: Currently logged in as: \u001b[33malvarodelamaza\u001b[0m (\u001b[33malvarodelamaza-vrije-universiteit-amsterdam\u001b[0m) to \u001b[32mhttps://api.wandb.ai\u001b[0m. Use \u001b[1m`wandb login --relogin`\u001b[0m to force relogin\n"
     ]
    },
    {
     "data": {
      "text/html": [
       "Tracking run with wandb version 0.19.7"
      ],
      "text/plain": [
       "<IPython.core.display.HTML object>"
      ]
     },
     "metadata": {},
     "output_type": "display_data"
    },
    {
     "data": {
      "text/html": [
       "Run data is saved locally in <code>/gpfs/home5/adelamaza/patent/patent-graph/notebooks/wandb/run-20250704_123450-7hfuck8l</code>"
      ],
      "text/plain": [
       "<IPython.core.display.HTML object>"
      ]
     },
     "metadata": {},
     "output_type": "display_data"
    },
    {
     "data": {
      "text/html": [
       "Syncing run <strong><a href='https://wandb.ai/alvarodelamaza-vrije-universiteit-amsterdam/alvaro-master-thesis-tkh/runs/7hfuck8l' target=\"_blank\">mild-dust-172</a></strong> to <a href='https://wandb.ai/alvarodelamaza-vrije-universiteit-amsterdam/alvaro-master-thesis-tkh' target=\"_blank\">Weights & Biases</a> (<a href='https://wandb.me/developer-guide' target=\"_blank\">docs</a>)<br>"
      ],
      "text/plain": [
       "<IPython.core.display.HTML object>"
      ]
     },
     "metadata": {},
     "output_type": "display_data"
    },
    {
     "data": {
      "text/html": [
       " View project at <a href='https://wandb.ai/alvarodelamaza-vrije-universiteit-amsterdam/alvaro-master-thesis-tkh' target=\"_blank\">https://wandb.ai/alvarodelamaza-vrije-universiteit-amsterdam/alvaro-master-thesis-tkh</a>"
      ],
      "text/plain": [
       "<IPython.core.display.HTML object>"
      ]
     },
     "metadata": {},
     "output_type": "display_data"
    },
    {
     "data": {
      "text/html": [
       " View run at <a href='https://wandb.ai/alvarodelamaza-vrije-universiteit-amsterdam/alvaro-master-thesis-tkh/runs/7hfuck8l' target=\"_blank\">https://wandb.ai/alvarodelamaza-vrije-universiteit-amsterdam/alvaro-master-thesis-tkh/runs/7hfuck8l</a>"
      ],
      "text/plain": [
       "<IPython.core.display.HTML object>"
      ]
     },
     "metadata": {},
     "output_type": "display_data"
    },
    {
     "name": "stderr",
     "output_type": "stream",
     "text": [
      "100%|██████████| 53492/53492 [00:10<00:00, 5186.86it/s]\n"
     ]
    },
    {
     "name": "stdout",
     "output_type": "stream",
     "text": [
      "Total eligible pairs: 22922\n",
      "Training pairs: 20630\n",
      "Validation pairs: 2292\n"
     ]
    },
    {
     "name": "stderr",
     "output_type": "stream",
     "text": [
      "Epoch 1/8:   0%|          | 0/161 [00:00<?, ?it/s]"
     ]
    },
    {
     "name": "stdout",
     "output_type": "stream",
     "text": [
      "Epoch 1/8, Batch 0, Loss: 4.5126, Cross-Entropy loss: 4.9363, Graph loss: 0.6991\n"
     ]
    },
    {
     "name": "stderr",
     "output_type": "stream",
     "text": [
      "Validating: 100%|██████████| 18/18 [00:19<00:00,  1.06s/it]\n"
     ]
    },
    {
     "name": "stdout",
     "output_type": "stream",
     "text": [
      "Epoch 1/8, Train Loss: 0.0280, Val Loss: 4.0408\n",
      "Val Cross-Entropy Loss: 4.4149, Val Graph Loss: 0.6739\n",
      "New best model found with validation loss: 4.0408\n"
     ]
    },
    {
     "name": "stderr",
     "output_type": "stream",
     "text": [
      "Epoch 1/8:  13%|█▎        | 21/161 [00:43<01:21,  1.71it/s] "
     ]
    },
    {
     "name": "stdout",
     "output_type": "stream",
     "text": [
      "Epoch 1/8, Batch 20, Loss: 2.1198, Cross-Entropy loss: 2.2818, Graph loss: 0.6618\n"
     ]
    },
    {
     "name": "stderr",
     "output_type": "stream",
     "text": [
      "Epoch 1/8:  25%|██▌       | 41/161 [00:54<01:09,  1.74it/s]"
     ]
    },
    {
     "name": "stdout",
     "output_type": "stream",
     "text": [
      "Epoch 1/8, Batch 40, Loss: 2.1531, Cross-Entropy loss: 2.3173, Graph loss: 0.6754\n"
     ]
    },
    {
     "name": "stderr",
     "output_type": "stream",
     "text": [
      "Epoch 1/8:  37%|███▋      | 60/161 [01:05<00:58,  1.74it/s]"
     ]
    },
    {
     "name": "stdout",
     "output_type": "stream",
     "text": [
      "Epoch 1/8, Batch 60, Loss: 1.8934, Cross-Entropy loss: 2.0305, Graph loss: 0.6593\n"
     ]
    },
    {
     "name": "stderr",
     "output_type": "stream",
     "text": [
      "Validating: 100%|██████████| 18/18 [00:17<00:00,  1.01it/s]\n"
     ]
    },
    {
     "name": "stdout",
     "output_type": "stream",
     "text": [
      "Epoch 1/8, Train Loss: 0.9074, Val Loss: 2.1171\n",
      "Val Cross-Entropy Loss: 2.2770, Val Graph Loss: 0.6779\n",
      "New best model found with validation loss: 2.1171\n"
     ]
    },
    {
     "name": "stderr",
     "output_type": "stream",
     "text": [
      "Epoch 1/8:  50%|█████     | 81/161 [01:35<00:46,  1.73it/s]"
     ]
    },
    {
     "name": "stdout",
     "output_type": "stream",
     "text": [
      "Epoch 1/8, Batch 80, Loss: 1.8114, Cross-Entropy loss: 1.9380, Graph loss: 0.6719\n"
     ]
    },
    {
     "name": "stderr",
     "output_type": "stream",
     "text": [
      "Epoch 1/8:  63%|██████▎   | 101/161 [01:47<00:34,  1.74it/s]"
     ]
    },
    {
     "name": "stdout",
     "output_type": "stream",
     "text": [
      "Epoch 1/8, Batch 100, Loss: 1.6155, Cross-Entropy loss: 1.7210, Graph loss: 0.6655\n"
     ]
    },
    {
     "name": "stderr",
     "output_type": "stream",
     "text": [
      "Epoch 1/8:  75%|███████▍  | 120/161 [01:58<00:23,  1.74it/s]"
     ]
    },
    {
     "name": "stdout",
     "output_type": "stream",
     "text": [
      "Epoch 1/8, Batch 120, Loss: 1.7031, Cross-Entropy loss: 1.8175, Graph loss: 0.6732\n"
     ]
    },
    {
     "name": "stderr",
     "output_type": "stream",
     "text": [
      "Validating: 100%|██████████| 18/18 [00:17<00:00,  1.01it/s]\n"
     ]
    },
    {
     "name": "stdout",
     "output_type": "stream",
     "text": [
      "Epoch 1/8, Train Loss: 1.5348, Val Loss: 1.9432\n",
      "Val Cross-Entropy Loss: 2.0847, Val Graph Loss: 0.6700\n",
      "New best model found with validation loss: 1.9432\n"
     ]
    },
    {
     "name": "stderr",
     "output_type": "stream",
     "text": [
      "Epoch 1/8:  88%|████████▊ | 141/161 [02:28<00:11,  1.73it/s]"
     ]
    },
    {
     "name": "stdout",
     "output_type": "stream",
     "text": [
      "Epoch 1/8, Batch 140, Loss: 1.3049, Cross-Entropy loss: 1.3760, Graph loss: 0.6650\n"
     ]
    },
    {
     "name": "stderr",
     "output_type": "stream",
     "text": [
      "Epoch 1/8: 100%|██████████| 161/161 [02:40<00:00,  1.01it/s]\n"
     ]
    },
    {
     "name": "stdout",
     "output_type": "stream",
     "text": [
      "Epoch 1/8, Batch 160, Loss: 1.3403, Cross-Entropy loss: 1.4161, Graph loss: 0.6580\n"
     ]
    },
    {
     "name": "stderr",
     "output_type": "stream",
     "text": [
      "Validating: 100%|██████████| 18/18 [00:17<00:00,  1.01it/s]\n"
     ]
    },
    {
     "name": "stdout",
     "output_type": "stream",
     "text": [
      "End of Epoch 1/8, Train Loss: 1.8958, Val Loss: 1.8385\n",
      "New best model found at end of epoch 1 with validation loss: 1.8385\n"
     ]
    },
    {
     "name": "stderr",
     "output_type": "stream",
     "text": [
      "Epoch 2/8:   0%|          | 0/161 [00:00<?, ?it/s]"
     ]
    },
    {
     "name": "stdout",
     "output_type": "stream",
     "text": [
      "Epoch 2/8, Batch 0, Loss: 1.2060, Cross-Entropy loss: 1.2661, Graph loss: 0.6644\n"
     ]
    },
    {
     "name": "stderr",
     "output_type": "stream",
     "text": [
      "Validating: 100%|██████████| 18/18 [00:17<00:00,  1.01it/s]\n"
     ]
    },
    {
     "name": "stdout",
     "output_type": "stream",
     "text": [
      "Epoch 2/8, Train Loss: 0.0075, Val Loss: 1.8228\n",
      "Val Cross-Entropy Loss: 1.9459, Val Graph Loss: 0.7148\n",
      "New best model found with validation loss: 1.8228\n"
     ]
    },
    {
     "name": "stderr",
     "output_type": "stream",
     "text": [
      "Epoch 2/8:  13%|█▎        | 21/161 [00:37<01:21,  1.72it/s] "
     ]
    },
    {
     "name": "stdout",
     "output_type": "stream",
     "text": [
      "Epoch 2/8, Batch 20, Loss: 1.1660, Cross-Entropy loss: 1.2213, Graph loss: 0.6682\n"
     ]
    },
    {
     "name": "stderr",
     "output_type": "stream",
     "text": [
      "Epoch 2/8:  25%|██▌       | 41/161 [00:49<01:09,  1.74it/s]"
     ]
    },
    {
     "name": "stdout",
     "output_type": "stream",
     "text": [
      "Epoch 2/8, Batch 40, Loss: 0.8752, Cross-Entropy loss: 0.8984, Graph loss: 0.6658\n"
     ]
    },
    {
     "name": "stderr",
     "output_type": "stream",
     "text": [
      "Epoch 2/8:  37%|███▋      | 60/161 [01:00<00:58,  1.74it/s]"
     ]
    },
    {
     "name": "stdout",
     "output_type": "stream",
     "text": [
      "Epoch 2/8, Batch 60, Loss: 1.0000, Cross-Entropy loss: 1.0379, Graph loss: 0.6593\n"
     ]
    },
    {
     "name": "stderr",
     "output_type": "stream",
     "text": [
      "Validating: 100%|██████████| 18/18 [00:18<00:00,  1.00s/it]\n"
     ]
    },
    {
     "name": "stdout",
     "output_type": "stream",
     "text": [
      "Epoch 2/8, Train Loss: 0.4130, Val Loss: 1.8185\n",
      "Val Cross-Entropy Loss: 1.9423, Val Graph Loss: 0.7046\n",
      "New best model found with validation loss: 1.8185\n"
     ]
    },
    {
     "name": "stderr",
     "output_type": "stream",
     "text": [
      "Epoch 2/8:  50%|█████     | 81/161 [01:30<00:46,  1.72it/s]"
     ]
    },
    {
     "name": "stdout",
     "output_type": "stream",
     "text": [
      "Epoch 2/8, Batch 80, Loss: 0.8848, Cross-Entropy loss: 0.9089, Graph loss: 0.6679\n"
     ]
    },
    {
     "name": "stderr",
     "output_type": "stream",
     "text": [
      "Epoch 2/8:  63%|██████▎   | 101/161 [01:42<00:34,  1.74it/s]"
     ]
    },
    {
     "name": "stdout",
     "output_type": "stream",
     "text": [
      "Epoch 2/8, Batch 100, Loss: 1.0022, Cross-Entropy loss: 1.0407, Graph loss: 0.6554\n"
     ]
    },
    {
     "name": "stderr",
     "output_type": "stream",
     "text": [
      "Epoch 2/8:  75%|███████▍  | 120/161 [01:53<00:23,  1.74it/s]"
     ]
    },
    {
     "name": "stdout",
     "output_type": "stream",
     "text": [
      "Epoch 2/8, Batch 120, Loss: 0.9272, Cross-Entropy loss: 0.9557, Graph loss: 0.6702\n"
     ]
    },
    {
     "name": "stderr",
     "output_type": "stream",
     "text": [
      "Validating: 100%|██████████| 18/18 [00:17<00:00,  1.02it/s]\n"
     ]
    },
    {
     "name": "stdout",
     "output_type": "stream",
     "text": [
      "Epoch 2/8, Train Loss: 0.7714, Val Loss: 1.7903\n",
      "Val Cross-Entropy Loss: 1.9100, Val Graph Loss: 0.7127\n",
      "New best model found with validation loss: 1.7903\n"
     ]
    },
    {
     "name": "stderr",
     "output_type": "stream",
     "text": [
      "Epoch 2/8:  88%|████████▊ | 141/161 [02:23<00:11,  1.73it/s]"
     ]
    },
    {
     "name": "stdout",
     "output_type": "stream",
     "text": [
      "Epoch 2/8, Batch 140, Loss: 0.9232, Cross-Entropy loss: 0.9521, Graph loss: 0.6636\n"
     ]
    },
    {
     "name": "stderr",
     "output_type": "stream",
     "text": [
      "Epoch 2/8: 100%|██████████| 161/161 [02:34<00:00,  1.04it/s]\n"
     ]
    },
    {
     "name": "stdout",
     "output_type": "stream",
     "text": [
      "Epoch 2/8, Batch 160, Loss: 0.8265, Cross-Entropy loss: 0.8452, Graph loss: 0.6579\n"
     ]
    },
    {
     "name": "stderr",
     "output_type": "stream",
     "text": [
      "Validating: 100%|██████████| 18/18 [00:18<00:00,  1.03s/it]\n"
     ]
    },
    {
     "name": "stdout",
     "output_type": "stream",
     "text": [
      "End of Epoch 2/8, Train Loss: 0.9831, Val Loss: 1.8239\n"
     ]
    },
    {
     "name": "stderr",
     "output_type": "stream",
     "text": [
      "Epoch 3/8:   0%|          | 0/161 [00:00<?, ?it/s]"
     ]
    },
    {
     "name": "stdout",
     "output_type": "stream",
     "text": [
      "Epoch 3/8, Batch 0, Loss: 0.7446, Cross-Entropy loss: 0.7541, Graph loss: 0.6591\n"
     ]
    },
    {
     "name": "stderr",
     "output_type": "stream",
     "text": [
      "Validating: 100%|██████████| 18/18 [00:17<00:00,  1.05it/s]\n",
      "Epoch 3/8:   1%|          | 1/161 [00:24<1:06:22, 24.89s/it]"
     ]
    },
    {
     "name": "stdout",
     "output_type": "stream",
     "text": [
      "Epoch 3/8, Train Loss: 0.0046, Val Loss: 1.8338\n",
      "Val Cross-Entropy Loss: 1.9563, Val Graph Loss: 0.7309\n"
     ]
    },
    {
     "name": "stderr",
     "output_type": "stream",
     "text": [
      "Epoch 3/8:  13%|█▎        | 21/161 [00:36<01:21,  1.72it/s] "
     ]
    },
    {
     "name": "stdout",
     "output_type": "stream",
     "text": [
      "Epoch 3/8, Batch 20, Loss: 0.5364, Cross-Entropy loss: 0.5226, Graph loss: 0.6610\n"
     ]
    },
    {
     "name": "stderr",
     "output_type": "stream",
     "text": [
      "Epoch 3/8:  25%|██▌       | 41/161 [00:47<01:09,  1.74it/s]"
     ]
    },
    {
     "name": "stdout",
     "output_type": "stream",
     "text": [
      "Epoch 3/8, Batch 40, Loss: 0.5719, Cross-Entropy loss: 0.5612, Graph loss: 0.6685\n"
     ]
    },
    {
     "name": "stderr",
     "output_type": "stream",
     "text": [
      "Epoch 3/8:  37%|███▋      | 60/161 [00:58<00:58,  1.74it/s]"
     ]
    },
    {
     "name": "stdout",
     "output_type": "stream",
     "text": [
      "Epoch 3/8, Batch 60, Loss: 0.5221, Cross-Entropy loss: 0.5063, Graph loss: 0.6641\n"
     ]
    },
    {
     "name": "stderr",
     "output_type": "stream",
     "text": [
      "Validating: 100%|██████████| 18/18 [00:18<00:00,  1.00s/it]\n",
      "Epoch 3/8:  38%|███▊      | 61/161 [01:17<09:59,  6.00s/it]"
     ]
    },
    {
     "name": "stdout",
     "output_type": "stream",
     "text": [
      "Epoch 3/8, Train Loss: 0.2195, Val Loss: 1.8072\n",
      "Val Cross-Entropy Loss: 1.9323, Val Graph Loss: 0.6819\n"
     ]
    },
    {
     "name": "stderr",
     "output_type": "stream",
     "text": [
      "Epoch 3/8:  50%|█████     | 81/161 [01:28<00:46,  1.73it/s]"
     ]
    },
    {
     "name": "stdout",
     "output_type": "stream",
     "text": [
      "Epoch 3/8, Batch 80, Loss: 0.5442, Cross-Entropy loss: 0.5305, Graph loss: 0.6683\n"
     ]
    },
    {
     "name": "stderr",
     "output_type": "stream",
     "text": [
      "Epoch 3/8:  63%|██████▎   | 101/161 [01:40<00:34,  1.74it/s]"
     ]
    },
    {
     "name": "stdout",
     "output_type": "stream",
     "text": [
      "Epoch 3/8, Batch 100, Loss: 0.5051, Cross-Entropy loss: 0.4871, Graph loss: 0.6672\n"
     ]
    },
    {
     "name": "stderr",
     "output_type": "stream",
     "text": [
      "Epoch 3/8:  75%|███████▍  | 120/161 [01:51<00:23,  1.74it/s]"
     ]
    },
    {
     "name": "stdout",
     "output_type": "stream",
     "text": [
      "Epoch 3/8, Batch 120, Loss: 0.4572, Cross-Entropy loss: 0.4348, Graph loss: 0.6586\n"
     ]
    },
    {
     "name": "stderr",
     "output_type": "stream",
     "text": [
      "Validating: 100%|██████████| 18/18 [00:17<00:00,  1.00it/s]\n",
      "Epoch 3/8:  75%|███████▌  | 121/161 [02:09<03:58,  5.96s/it]"
     ]
    },
    {
     "name": "stdout",
     "output_type": "stream",
     "text": [
      "Epoch 3/8, Train Loss: 0.4155, Val Loss: 1.8398\n",
      "Val Cross-Entropy Loss: 1.9607, Val Graph Loss: 0.7514\n"
     ]
    },
    {
     "name": "stderr",
     "output_type": "stream",
     "text": [
      "Epoch 3/8:  88%|████████▊ | 141/161 [02:21<00:11,  1.73it/s]"
     ]
    },
    {
     "name": "stdout",
     "output_type": "stream",
     "text": [
      "Epoch 3/8, Batch 140, Loss: 0.5032, Cross-Entropy loss: 0.4860, Graph loss: 0.6582\n"
     ]
    },
    {
     "name": "stderr",
     "output_type": "stream",
     "text": [
      "Epoch 3/8: 100%|██████████| 161/161 [02:32<00:00,  1.05it/s]\n"
     ]
    },
    {
     "name": "stdout",
     "output_type": "stream",
     "text": [
      "Epoch 3/8, Batch 160, Loss: 0.4004, Cross-Entropy loss: 0.3712, Graph loss: 0.6631\n"
     ]
    },
    {
     "name": "stderr",
     "output_type": "stream",
     "text": [
      "Validating: 100%|██████████| 18/18 [00:17<00:00,  1.01it/s]\n"
     ]
    },
    {
     "name": "stdout",
     "output_type": "stream",
     "text": [
      "End of Epoch 3/8, Train Loss: 0.5382, Val Loss: 1.8390\n"
     ]
    },
    {
     "name": "stderr",
     "output_type": "stream",
     "text": [
      "Epoch 4/8:   0%|          | 0/161 [00:00<?, ?it/s]"
     ]
    },
    {
     "name": "stdout",
     "output_type": "stream",
     "text": [
      "Epoch 4/8, Batch 0, Loss: 0.3744, Cross-Entropy loss: 0.3420, Graph loss: 0.6654\n"
     ]
    },
    {
     "name": "stderr",
     "output_type": "stream",
     "text": [
      "Validating: 100%|██████████| 18/18 [00:18<00:00,  1.00s/it]\n",
      "Epoch 4/8:   1%|          | 1/161 [00:26<1:11:20, 26.75s/it]"
     ]
    },
    {
     "name": "stdout",
     "output_type": "stream",
     "text": [
      "Epoch 4/8, Train Loss: 0.0023, Val Loss: 1.8520\n",
      "Val Cross-Entropy Loss: 1.9822, Val Graph Loss: 0.6799\n"
     ]
    },
    {
     "name": "stderr",
     "output_type": "stream",
     "text": [
      "Epoch 4/8:  13%|█▎        | 21/161 [00:38<01:21,  1.71it/s] "
     ]
    },
    {
     "name": "stdout",
     "output_type": "stream",
     "text": [
      "Epoch 4/8, Batch 20, Loss: 0.3499, Cross-Entropy loss: 0.3160, Graph loss: 0.6554\n"
     ]
    },
    {
     "name": "stderr",
     "output_type": "stream",
     "text": [
      "Epoch 4/8:  25%|██▌       | 41/161 [00:49<01:09,  1.74it/s]"
     ]
    },
    {
     "name": "stdout",
     "output_type": "stream",
     "text": [
      "Epoch 4/8, Batch 40, Loss: 0.3441, Cross-Entropy loss: 0.3100, Graph loss: 0.6507\n"
     ]
    },
    {
     "name": "stderr",
     "output_type": "stream",
     "text": [
      "Epoch 4/8:  37%|███▋      | 60/161 [01:00<00:58,  1.74it/s]"
     ]
    },
    {
     "name": "stdout",
     "output_type": "stream",
     "text": [
      "Epoch 4/8, Batch 60, Loss: 0.3896, Cross-Entropy loss: 0.3587, Graph loss: 0.6674\n"
     ]
    },
    {
     "name": "stderr",
     "output_type": "stream",
     "text": [
      "Validating: 100%|██████████| 18/18 [00:17<00:00,  1.02it/s]\n",
      "Epoch 4/8:  38%|███▊      | 61/161 [01:18<09:48,  5.88s/it]"
     ]
    },
    {
     "name": "stdout",
     "output_type": "stream",
     "text": [
      "Epoch 4/8, Train Loss: 0.1324, Val Loss: 1.8909\n",
      "Val Cross-Entropy Loss: 2.0206, Val Graph Loss: 0.7231\n"
     ]
    },
    {
     "name": "stderr",
     "output_type": "stream",
     "text": [
      "Epoch 4/8:  50%|█████     | 81/161 [01:30<00:46,  1.72it/s]"
     ]
    },
    {
     "name": "stdout",
     "output_type": "stream",
     "text": [
      "Epoch 4/8, Batch 80, Loss: 0.3005, Cross-Entropy loss: 0.2601, Graph loss: 0.6634\n"
     ]
    },
    {
     "name": "stderr",
     "output_type": "stream",
     "text": [
      "Epoch 4/8:  63%|██████▎   | 101/161 [01:42<00:34,  1.74it/s]"
     ]
    },
    {
     "name": "stdout",
     "output_type": "stream",
     "text": [
      "Epoch 4/8, Batch 100, Loss: 0.3888, Cross-Entropy loss: 0.3588, Graph loss: 0.6585\n"
     ]
    },
    {
     "name": "stderr",
     "output_type": "stream",
     "text": [
      "Epoch 4/8:  75%|███████▍  | 120/161 [01:52<00:23,  1.74it/s]"
     ]
    },
    {
     "name": "stdout",
     "output_type": "stream",
     "text": [
      "Epoch 4/8, Batch 120, Loss: 0.2984, Cross-Entropy loss: 0.2585, Graph loss: 0.6572\n"
     ]
    },
    {
     "name": "stderr",
     "output_type": "stream",
     "text": [
      "Validating: 100%|██████████| 18/18 [00:17<00:00,  1.03it/s]\n",
      "Epoch 4/8:  75%|███████▌  | 121/161 [02:11<03:53,  5.83s/it]"
     ]
    },
    {
     "name": "stdout",
     "output_type": "stream",
     "text": [
      "Epoch 4/8, Train Loss: 0.2534, Val Loss: 1.8802\n",
      "Val Cross-Entropy Loss: 2.0086, Val Graph Loss: 0.7244\n"
     ]
    },
    {
     "name": "stderr",
     "output_type": "stream",
     "text": [
      "Epoch 4/8:  88%|████████▊ | 141/161 [02:22<00:11,  1.73it/s]"
     ]
    },
    {
     "name": "stdout",
     "output_type": "stream",
     "text": [
      "Epoch 4/8, Batch 140, Loss: 0.2908, Cross-Entropy loss: 0.2499, Graph loss: 0.6586\n"
     ]
    },
    {
     "name": "stderr",
     "output_type": "stream",
     "text": [
      "Epoch 4/8: 100%|██████████| 161/161 [02:34<00:00,  1.05it/s]\n"
     ]
    },
    {
     "name": "stdout",
     "output_type": "stream",
     "text": [
      "Epoch 4/8, Batch 160, Loss: 0.3108, Cross-Entropy loss: 0.2724, Graph loss: 0.6565\n"
     ]
    },
    {
     "name": "stderr",
     "output_type": "stream",
     "text": [
      "Validating: 100%|██████████| 18/18 [00:15<00:00,  1.16it/s]\n"
     ]
    },
    {
     "name": "stdout",
     "output_type": "stream",
     "text": [
      "End of Epoch 4/8, Train Loss: 0.3284, Val Loss: 1.9293\n"
     ]
    },
    {
     "name": "stderr",
     "output_type": "stream",
     "text": [
      "Epoch 5/8:   0%|          | 0/161 [00:00<?, ?it/s]"
     ]
    },
    {
     "name": "stdout",
     "output_type": "stream",
     "text": [
      "Epoch 5/8, Batch 0, Loss: 0.2442, Cross-Entropy loss: 0.1975, Graph loss: 0.6647\n"
     ]
    },
    {
     "name": "stderr",
     "output_type": "stream",
     "text": [
      "Validating: 100%|██████████| 18/18 [00:18<00:00,  1.00s/it]\n",
      "Epoch 5/8:   1%|          | 1/161 [00:27<1:12:11, 27.07s/it]"
     ]
    },
    {
     "name": "stdout",
     "output_type": "stream",
     "text": [
      "Epoch 5/8, Train Loss: 0.0015, Val Loss: 1.9040\n",
      "Val Cross-Entropy Loss: 2.0354, Val Graph Loss: 0.7213\n"
     ]
    },
    {
     "name": "stderr",
     "output_type": "stream",
     "text": [
      "Epoch 5/8:  13%|█▎        | 21/161 [00:38<01:21,  1.72it/s] "
     ]
    },
    {
     "name": "stdout",
     "output_type": "stream",
     "text": [
      "Epoch 5/8, Batch 20, Loss: 0.2537, Cross-Entropy loss: 0.2094, Graph loss: 0.6529\n"
     ]
    },
    {
     "name": "stderr",
     "output_type": "stream",
     "text": [
      "Epoch 5/8:  25%|██▌       | 41/161 [00:50<01:09,  1.74it/s]"
     ]
    },
    {
     "name": "stdout",
     "output_type": "stream",
     "text": [
      "Epoch 5/8, Batch 40, Loss: 0.2564, Cross-Entropy loss: 0.2123, Graph loss: 0.6534\n"
     ]
    },
    {
     "name": "stderr",
     "output_type": "stream",
     "text": [
      "Epoch 5/8:  37%|███▋      | 60/161 [01:01<00:58,  1.74it/s]"
     ]
    },
    {
     "name": "stdout",
     "output_type": "stream",
     "text": [
      "Epoch 5/8, Batch 60, Loss: 0.2230, Cross-Entropy loss: 0.1748, Graph loss: 0.6566\n"
     ]
    },
    {
     "name": "stderr",
     "output_type": "stream",
     "text": [
      "Validating: 100%|██████████| 18/18 [00:17<00:00,  1.04it/s]\n",
      "Epoch 5/8:  38%|███▊      | 61/161 [01:18<09:38,  5.78s/it]"
     ]
    },
    {
     "name": "stdout",
     "output_type": "stream",
     "text": [
      "Epoch 5/8, Train Loss: 0.0954, Val Loss: 1.9572\n",
      "Val Cross-Entropy Loss: 2.0916, Val Graph Loss: 0.7468\n"
     ]
    },
    {
     "name": "stderr",
     "output_type": "stream",
     "text": [
      "Epoch 5/8:  50%|█████     | 81/161 [01:30<00:46,  1.72it/s]"
     ]
    },
    {
     "name": "stdout",
     "output_type": "stream",
     "text": [
      "Epoch 5/8, Batch 80, Loss: 0.2298, Cross-Entropy loss: 0.1823, Graph loss: 0.6567\n"
     ]
    },
    {
     "name": "stderr",
     "output_type": "stream",
     "text": [
      "Epoch 5/8:  63%|██████▎   | 101/161 [01:41<00:34,  1.74it/s]"
     ]
    },
    {
     "name": "stdout",
     "output_type": "stream",
     "text": [
      "Epoch 5/8, Batch 100, Loss: 0.2947, Cross-Entropy loss: 0.2556, Graph loss: 0.6468\n"
     ]
    },
    {
     "name": "stderr",
     "output_type": "stream",
     "text": [
      "Epoch 5/8:  75%|███████▍  | 120/161 [01:52<00:23,  1.74it/s]"
     ]
    },
    {
     "name": "stdout",
     "output_type": "stream",
     "text": [
      "Epoch 5/8, Batch 120, Loss: 0.2930, Cross-Entropy loss: 0.2533, Graph loss: 0.6503\n"
     ]
    },
    {
     "name": "stderr",
     "output_type": "stream",
     "text": [
      "Validating: 100%|██████████| 18/18 [00:17<00:00,  1.02it/s]\n",
      "Epoch 5/8:  75%|███████▌  | 121/161 [02:11<03:54,  5.85s/it]"
     ]
    },
    {
     "name": "stdout",
     "output_type": "stream",
     "text": [
      "Epoch 5/8, Train Loss: 0.1847, Val Loss: 1.9454\n",
      "Val Cross-Entropy Loss: 2.0832, Val Graph Loss: 0.7052\n"
     ]
    },
    {
     "name": "stderr",
     "output_type": "stream",
     "text": [
      "Epoch 5/8:  88%|████████▊ | 141/161 [02:22<00:11,  1.73it/s]"
     ]
    },
    {
     "name": "stdout",
     "output_type": "stream",
     "text": [
      "Epoch 5/8, Batch 140, Loss: 0.2249, Cross-Entropy loss: 0.1774, Graph loss: 0.6520\n"
     ]
    },
    {
     "name": "stderr",
     "output_type": "stream",
     "text": [
      "Epoch 5/8: 100%|██████████| 161/161 [02:34<00:00,  1.05it/s]\n"
     ]
    },
    {
     "name": "stdout",
     "output_type": "stream",
     "text": [
      "Epoch 5/8, Batch 160, Loss: 0.2281, Cross-Entropy loss: 0.1813, Graph loss: 0.6492\n"
     ]
    },
    {
     "name": "stderr",
     "output_type": "stream",
     "text": [
      "Validating: 100%|██████████| 18/18 [00:17<00:00,  1.05it/s]\n"
     ]
    },
    {
     "name": "stdout",
     "output_type": "stream",
     "text": [
      "End of Epoch 5/8, Train Loss: 0.2414, Val Loss: 1.9392\n"
     ]
    },
    {
     "name": "stderr",
     "output_type": "stream",
     "text": [
      "Epoch 6/8:   0%|          | 0/161 [00:00<?, ?it/s]"
     ]
    },
    {
     "name": "stdout",
     "output_type": "stream",
     "text": [
      "Epoch 6/8, Batch 0, Loss: 0.1985, Cross-Entropy loss: 0.1481, Graph loss: 0.6521\n"
     ]
    },
    {
     "name": "stderr",
     "output_type": "stream",
     "text": [
      "Validating: 100%|██████████| 18/18 [00:17<00:00,  1.02it/s]\n",
      "Epoch 6/8:   1%|          | 1/161 [00:26<1:11:32, 26.83s/it]"
     ]
    },
    {
     "name": "stdout",
     "output_type": "stream",
     "text": [
      "Epoch 6/8, Train Loss: 0.0012, Val Loss: 1.9572\n",
      "Val Cross-Entropy Loss: 2.0984, Val Graph Loss: 0.6860\n"
     ]
    },
    {
     "name": "stderr",
     "output_type": "stream",
     "text": [
      "Epoch 6/8:  13%|█▎        | 21/161 [00:38<01:21,  1.72it/s] "
     ]
    },
    {
     "name": "stdout",
     "output_type": "stream",
     "text": [
      "Epoch 6/8, Batch 20, Loss: 0.1833, Cross-Entropy loss: 0.1310, Graph loss: 0.6538\n"
     ]
    },
    {
     "name": "stderr",
     "output_type": "stream",
     "text": [
      "Epoch 6/8:  25%|██▌       | 41/161 [00:49<01:09,  1.74it/s]"
     ]
    },
    {
     "name": "stdout",
     "output_type": "stream",
     "text": [
      "Epoch 6/8, Batch 40, Loss: 0.1836, Cross-Entropy loss: 0.1311, Graph loss: 0.6565\n"
     ]
    },
    {
     "name": "stderr",
     "output_type": "stream",
     "text": [
      "Epoch 6/8:  37%|███▋      | 60/161 [01:00<00:58,  1.74it/s]"
     ]
    },
    {
     "name": "stdout",
     "output_type": "stream",
     "text": [
      "Epoch 6/8, Batch 60, Loss: 0.1755, Cross-Entropy loss: 0.1236, Graph loss: 0.6425\n"
     ]
    },
    {
     "name": "stderr",
     "output_type": "stream",
     "text": [
      "Validating: 100%|██████████| 18/18 [00:17<00:00,  1.01it/s]\n",
      "Epoch 6/8:  38%|███▊      | 61/161 [01:19<09:53,  5.93s/it]"
     ]
    },
    {
     "name": "stdout",
     "output_type": "stream",
     "text": [
      "Epoch 6/8, Train Loss: 0.0762, Val Loss: 1.9840\n",
      "Val Cross-Entropy Loss: 2.1215, Val Graph Loss: 0.7470\n"
     ]
    },
    {
     "name": "stderr",
     "output_type": "stream",
     "text": [
      "Epoch 6/8:  50%|█████     | 81/161 [01:30<00:46,  1.73it/s]"
     ]
    },
    {
     "name": "stdout",
     "output_type": "stream",
     "text": [
      "Epoch 6/8, Batch 80, Loss: 0.2137, Cross-Entropy loss: 0.1652, Graph loss: 0.6506\n"
     ]
    },
    {
     "name": "stderr",
     "output_type": "stream",
     "text": [
      "Epoch 6/8:  63%|██████▎   | 101/161 [01:42<00:34,  1.74it/s]"
     ]
    },
    {
     "name": "stdout",
     "output_type": "stream",
     "text": [
      "Epoch 6/8, Batch 100, Loss: 0.2031, Cross-Entropy loss: 0.1534, Graph loss: 0.6501\n"
     ]
    },
    {
     "name": "stderr",
     "output_type": "stream",
     "text": [
      "Epoch 6/8:  75%|███████▍  | 120/161 [01:53<00:23,  1.74it/s]"
     ]
    },
    {
     "name": "stdout",
     "output_type": "stream",
     "text": [
      "Epoch 6/8, Batch 120, Loss: 0.1758, Cross-Entropy loss: 0.1234, Graph loss: 0.6468\n"
     ]
    },
    {
     "name": "stderr",
     "output_type": "stream",
     "text": [
      "Validating: 100%|██████████| 18/18 [00:16<00:00,  1.11it/s]\n",
      "Epoch 6/8:  75%|███████▌  | 121/161 [02:09<03:38,  5.46s/it]"
     ]
    },
    {
     "name": "stdout",
     "output_type": "stream",
     "text": [
      "Epoch 6/8, Train Loss: 0.1504, Val Loss: 1.9789\n",
      "Val Cross-Entropy Loss: 2.1158, Val Graph Loss: 0.7465\n"
     ]
    },
    {
     "name": "stderr",
     "output_type": "stream",
     "text": [
      "Epoch 6/8:  88%|████████▊ | 141/161 [02:21<00:11,  1.73it/s]"
     ]
    },
    {
     "name": "stdout",
     "output_type": "stream",
     "text": [
      "Epoch 6/8, Batch 140, Loss: 0.1857, Cross-Entropy loss: 0.1346, Graph loss: 0.6457\n"
     ]
    },
    {
     "name": "stderr",
     "output_type": "stream",
     "text": [
      "Epoch 6/8: 100%|██████████| 161/161 [02:32<00:00,  1.05it/s]\n"
     ]
    },
    {
     "name": "stdout",
     "output_type": "stream",
     "text": [
      "Epoch 6/8, Batch 160, Loss: 0.1677, Cross-Entropy loss: 0.1138, Graph loss: 0.6527\n"
     ]
    },
    {
     "name": "stderr",
     "output_type": "stream",
     "text": [
      "Validating: 100%|██████████| 18/18 [00:16<00:00,  1.07it/s]\n"
     ]
    },
    {
     "name": "stdout",
     "output_type": "stream",
     "text": [
      "End of Epoch 6/8, Train Loss: 0.1980, Val Loss: 2.0150\n"
     ]
    },
    {
     "name": "stderr",
     "output_type": "stream",
     "text": [
      "Epoch 7/8:   0%|          | 0/161 [00:00<?, ?it/s]"
     ]
    },
    {
     "name": "stdout",
     "output_type": "stream",
     "text": [
      "Epoch 7/8, Batch 0, Loss: 0.1717, Cross-Entropy loss: 0.1180, Graph loss: 0.6548\n"
     ]
    },
    {
     "name": "stderr",
     "output_type": "stream",
     "text": [
      "Validating: 100%|██████████| 18/18 [00:17<00:00,  1.05it/s]\n",
      "Epoch 7/8:   1%|          | 1/161 [00:25<1:08:21, 25.64s/it]"
     ]
    },
    {
     "name": "stdout",
     "output_type": "stream",
     "text": [
      "Epoch 7/8, Train Loss: 0.0011, Val Loss: 2.0212\n",
      "Val Cross-Entropy Loss: 2.1691, Val Graph Loss: 0.6896\n"
     ]
    },
    {
     "name": "stderr",
     "output_type": "stream",
     "text": [
      "Epoch 7/8:  13%|█▎        | 21/161 [00:37<01:21,  1.72it/s] "
     ]
    },
    {
     "name": "stdout",
     "output_type": "stream",
     "text": [
      "Epoch 7/8, Batch 20, Loss: 0.1710, Cross-Entropy loss: 0.1184, Graph loss: 0.6443\n"
     ]
    },
    {
     "name": "stderr",
     "output_type": "stream",
     "text": [
      "Epoch 7/8:  25%|██▌       | 41/161 [00:48<01:09,  1.74it/s]"
     ]
    },
    {
     "name": "stdout",
     "output_type": "stream",
     "text": [
      "Epoch 7/8, Batch 40, Loss: 0.2045, Cross-Entropy loss: 0.1553, Graph loss: 0.6473\n"
     ]
    },
    {
     "name": "stderr",
     "output_type": "stream",
     "text": [
      "Epoch 7/8:  37%|███▋      | 60/161 [00:59<00:58,  1.74it/s]"
     ]
    },
    {
     "name": "stdout",
     "output_type": "stream",
     "text": [
      "Epoch 7/8, Batch 60, Loss: 0.2233, Cross-Entropy loss: 0.1768, Graph loss: 0.6425\n"
     ]
    },
    {
     "name": "stderr",
     "output_type": "stream",
     "text": [
      "Validating: 100%|██████████| 18/18 [00:17<00:00,  1.00it/s]\n",
      "Epoch 7/8:  38%|███▊      | 61/161 [01:18<09:56,  5.96s/it]"
     ]
    },
    {
     "name": "stdout",
     "output_type": "stream",
     "text": [
      "Epoch 7/8, Train Loss: 0.0686, Val Loss: 1.9860\n",
      "Val Cross-Entropy Loss: 2.1305, Val Graph Loss: 0.6851\n"
     ]
    },
    {
     "name": "stderr",
     "output_type": "stream",
     "text": [
      "Epoch 7/8:  50%|█████     | 81/161 [01:29<00:46,  1.73it/s]"
     ]
    },
    {
     "name": "stdout",
     "output_type": "stream",
     "text": [
      "Epoch 7/8, Batch 80, Loss: 0.1895, Cross-Entropy loss: 0.1386, Graph loss: 0.6474\n"
     ]
    },
    {
     "name": "stderr",
     "output_type": "stream",
     "text": [
      "Epoch 7/8:  63%|██████▎   | 101/161 [01:41<00:34,  1.74it/s]"
     ]
    },
    {
     "name": "stdout",
     "output_type": "stream",
     "text": [
      "Epoch 7/8, Batch 100, Loss: 0.1639, Cross-Entropy loss: 0.1103, Graph loss: 0.6466\n"
     ]
    },
    {
     "name": "stderr",
     "output_type": "stream",
     "text": [
      "Epoch 7/8:  75%|███████▍  | 120/161 [01:52<00:23,  1.74it/s]"
     ]
    },
    {
     "name": "stdout",
     "output_type": "stream",
     "text": [
      "Epoch 7/8, Batch 120, Loss: 0.1685, Cross-Entropy loss: 0.1151, Graph loss: 0.6486\n"
     ]
    },
    {
     "name": "stderr",
     "output_type": "stream",
     "text": [
      "Validating: 100%|██████████| 18/18 [00:16<00:00,  1.06it/s]\n",
      "Epoch 7/8:  75%|███████▌  | 121/161 [02:09<03:46,  5.66s/it]"
     ]
    },
    {
     "name": "stdout",
     "output_type": "stream",
     "text": [
      "Epoch 7/8, Train Loss: 0.1337, Val Loss: 2.0235\n",
      "Val Cross-Entropy Loss: 2.1714, Val Graph Loss: 0.6925\n"
     ]
    },
    {
     "name": "stderr",
     "output_type": "stream",
     "text": [
      "Epoch 7/8:  88%|████████▊ | 141/161 [02:21<00:11,  1.73it/s]"
     ]
    },
    {
     "name": "stdout",
     "output_type": "stream",
     "text": [
      "Epoch 7/8, Batch 140, Loss: 0.1736, Cross-Entropy loss: 0.1217, Graph loss: 0.6401\n"
     ]
    },
    {
     "name": "stderr",
     "output_type": "stream",
     "text": [
      "Epoch 7/8: 100%|██████████| 161/161 [02:32<00:00,  1.06it/s]\n"
     ]
    },
    {
     "name": "stdout",
     "output_type": "stream",
     "text": [
      "Epoch 7/8, Batch 160, Loss: 0.1718, Cross-Entropy loss: 0.1188, Graph loss: 0.6493\n"
     ]
    },
    {
     "name": "stderr",
     "output_type": "stream",
     "text": [
      "Validating: 100%|██████████| 18/18 [00:16<00:00,  1.08it/s]\n"
     ]
    },
    {
     "name": "stdout",
     "output_type": "stream",
     "text": [
      "End of Epoch 7/8, Train Loss: 0.1783, Val Loss: 1.9990\n"
     ]
    },
    {
     "name": "stderr",
     "output_type": "stream",
     "text": [
      "Epoch 8/8:   0%|          | 0/161 [00:00<?, ?it/s]"
     ]
    },
    {
     "name": "stdout",
     "output_type": "stream",
     "text": [
      "Epoch 8/8, Batch 0, Loss: 0.1690, Cross-Entropy loss: 0.1165, Graph loss: 0.6415\n"
     ]
    },
    {
     "name": "stderr",
     "output_type": "stream",
     "text": [
      "Validating: 100%|██████████| 18/18 [00:17<00:00,  1.04it/s]\n",
      "Epoch 8/8:   1%|          | 1/161 [00:25<1:09:13, 25.96s/it]"
     ]
    },
    {
     "name": "stdout",
     "output_type": "stream",
     "text": [
      "Epoch 8/8, Train Loss: 0.0010, Val Loss: 2.0342\n",
      "Val Cross-Entropy Loss: 2.1847, Val Graph Loss: 0.6803\n"
     ]
    },
    {
     "name": "stderr",
     "output_type": "stream",
     "text": [
      "Epoch 8/8:  13%|█▎        | 21/161 [00:37<01:21,  1.72it/s] "
     ]
    },
    {
     "name": "stdout",
     "output_type": "stream",
     "text": [
      "Epoch 8/8, Batch 20, Loss: 0.1549, Cross-Entropy loss: 0.1009, Graph loss: 0.6406\n"
     ]
    },
    {
     "name": "stderr",
     "output_type": "stream",
     "text": [
      "Epoch 8/8:  25%|██▌       | 41/161 [00:48<01:09,  1.74it/s]"
     ]
    },
    {
     "name": "stdout",
     "output_type": "stream",
     "text": [
      "Epoch 8/8, Batch 40, Loss: 0.1633, Cross-Entropy loss: 0.1107, Graph loss: 0.6361\n"
     ]
    },
    {
     "name": "stderr",
     "output_type": "stream",
     "text": [
      "Epoch 8/8:  37%|███▋      | 60/161 [00:59<00:58,  1.74it/s]"
     ]
    },
    {
     "name": "stdout",
     "output_type": "stream",
     "text": [
      "Epoch 8/8, Batch 60, Loss: 0.1750, Cross-Entropy loss: 0.1232, Graph loss: 0.6408\n"
     ]
    },
    {
     "name": "stderr",
     "output_type": "stream",
     "text": [
      "Validating: 100%|██████████| 18/18 [00:17<00:00,  1.02it/s]\n",
      "Epoch 8/8:  38%|███▊      | 61/161 [01:18<09:46,  5.87s/it]"
     ]
    },
    {
     "name": "stdout",
     "output_type": "stream",
     "text": [
      "Epoch 8/8, Train Loss: 0.0653, Val Loss: 2.0075\n",
      "Val Cross-Entropy Loss: 2.1478, Val Graph Loss: 0.7450\n"
     ]
    },
    {
     "name": "stderr",
     "output_type": "stream",
     "text": [
      "Epoch 8/8:  50%|█████     | 81/161 [01:29<00:46,  1.73it/s]"
     ]
    },
    {
     "name": "stdout",
     "output_type": "stream",
     "text": [
      "Epoch 8/8, Batch 80, Loss: 0.1759, Cross-Entropy loss: 0.1246, Graph loss: 0.6378\n"
     ]
    },
    {
     "name": "stderr",
     "output_type": "stream",
     "text": [
      "Epoch 8/8:  63%|██████▎   | 101/161 [01:41<00:34,  1.74it/s]"
     ]
    },
    {
     "name": "stdout",
     "output_type": "stream",
     "text": [
      "Epoch 8/8, Batch 100, Loss: 0.1516, Cross-Entropy loss: 0.0976, Graph loss: 0.6381\n"
     ]
    },
    {
     "name": "stderr",
     "output_type": "stream",
     "text": [
      "Epoch 8/8:  75%|███████▍  | 120/161 [01:52<00:23,  1.74it/s]"
     ]
    },
    {
     "name": "stdout",
     "output_type": "stream",
     "text": [
      "Epoch 8/8, Batch 120, Loss: 0.1448, Cross-Entropy loss: 0.0893, Graph loss: 0.6440\n"
     ]
    },
    {
     "name": "stderr",
     "output_type": "stream",
     "text": [
      "Validating: 100%|██████████| 18/18 [00:17<00:00,  1.04it/s]\n",
      "Epoch 8/8:  75%|███████▌  | 121/161 [02:09<03:51,  5.79s/it]"
     ]
    },
    {
     "name": "stdout",
     "output_type": "stream",
     "text": [
      "Epoch 8/8, Train Loss: 0.1278, Val Loss: 2.0504\n",
      "Val Cross-Entropy Loss: 2.2000, Val Graph Loss: 0.7042\n"
     ]
    },
    {
     "name": "stderr",
     "output_type": "stream",
     "text": [
      "Epoch 8/8:  88%|████████▊ | 141/161 [02:21<00:11,  1.73it/s]"
     ]
    },
    {
     "name": "stdout",
     "output_type": "stream",
     "text": [
      "Epoch 8/8, Batch 140, Loss: 0.1672, Cross-Entropy loss: 0.1150, Graph loss: 0.6374\n"
     ]
    },
    {
     "name": "stderr",
     "output_type": "stream",
     "text": [
      "Epoch 8/8: 100%|██████████| 161/161 [02:32<00:00,  1.05it/s]\n"
     ]
    },
    {
     "name": "stdout",
     "output_type": "stream",
     "text": [
      "Epoch 8/8, Batch 160, Loss: 0.1541, Cross-Entropy loss: 0.1004, Graph loss: 0.6371\n"
     ]
    },
    {
     "name": "stderr",
     "output_type": "stream",
     "text": [
      "Validating: 100%|██████████| 18/18 [00:16<00:00,  1.07it/s]\n"
     ]
    },
    {
     "name": "stdout",
     "output_type": "stream",
     "text": [
      "End of Epoch 8/8, Train Loss: 0.1696, Val Loss: 2.0469\n"
     ]
    },
    {
     "data": {
      "text/html": [],
      "text/plain": [
       "<IPython.core.display.HTML object>"
      ]
     },
     "metadata": {},
     "output_type": "display_data"
    },
    {
     "data": {
      "text/html": [
       "<br>    <style><br>        .wandb-row {<br>            display: flex;<br>            flex-direction: row;<br>            flex-wrap: wrap;<br>            justify-content: flex-start;<br>            width: 100%;<br>        }<br>        .wandb-col {<br>            display: flex;<br>            flex-direction: column;<br>            flex-basis: 100%;<br>            flex: 1;<br>            padding: 10px;<br>        }<br>    </style><br><div class=\"wandb-row\"><div class=\"wandb-col\"><h3>Run history:</h3><br/><table class=\"wandb\"><tr><td>epoch</td><td>▁▁▁▁▂▂▂▂▃▃▃▃▄▄▄▄▅▅▅▅▆▆▆▆▇▇▇▇████</td></tr><tr><td>epoch_val/cross_entropy_loss</td><td>▁▁▁▄▅▇▆█</td></tr><tr><td>epoch_val/graph_loss</td><td>▂▃▅▃█▃▃▁</td></tr><tr><td>epoch_val/loss</td><td>▁▁▁▄▅▇▆█</td></tr><tr><td>train/cross_entropy_loss</td><td>█▇▇▆▅▄▄▄▄▄▃▃▃▂▂▂▂▂▂▁▁▂▁▁▁▁▁▁▁▁▁▁▁▁▁▁▁▁▁▁</td></tr><tr><td>train/graph_loss</td><td>█▅▅▄▄▄▅▃▅▄▄▄▅▄▃▄▃▃▄▃▄▄▃▃▃▃▃▃▃▂▂▂▂▁▂▁▁▂▁▁</td></tr><tr><td>train/loss</td><td>█▇▆▇▅▅▅▄▄▄▃▂▂▂▂▂▂▂▂▂▁▁▂▁▁▁▁▁▁▁▁▁▁▁▁▁▁▁▁▁</td></tr><tr><td>val/cross_entropy_loss</td><td>█▂▁▁▁▁▁▁▁▁▁▁▁▂▁▂▂▂▂▂▂▂▂▂</td></tr><tr><td>val/graph_loss</td><td>▁▂▁▅▄▅▆▂█▂▆▆▅█▄▂██▃▂▃▂▇▄</td></tr><tr><td>val/loss</td><td>█▂▁▁▁▁▁▁▁▁▁▁▁▂▁▂▂▂▂▂▂▂▂▂</td></tr></table><br/></div><div class=\"wandb-col\"><h3>Run summary:</h3><br/><table class=\"wandb\"><tr><td>epoch</td><td>8</td></tr><tr><td>epoch_val/cross_entropy_loss</td><td>2.19735</td></tr><tr><td>epoch_val/graph_loss</td><td>0.69327</td></tr><tr><td>epoch_val/loss</td><td>2.04695</td></tr><tr><td>train/cross_entropy_loss</td><td>0.10041</td></tr><tr><td>train/graph_loss</td><td>0.6371</td></tr><tr><td>train/loss</td><td>0.15408</td></tr><tr><td>val/cross_entropy_loss</td><td>2.20003</td></tr><tr><td>val/graph_loss</td><td>0.70419</td></tr><tr><td>val/loss</td><td>2.05044</td></tr></table><br/></div></div>"
      ],
      "text/plain": [
       "<IPython.core.display.HTML object>"
      ]
     },
     "metadata": {},
     "output_type": "display_data"
    },
    {
     "data": {
      "text/html": [
       " View run <strong style=\"color:#cdcd00\">mild-dust-172</strong> at: <a href='https://wandb.ai/alvarodelamaza-vrije-universiteit-amsterdam/alvaro-master-thesis-tkh/runs/7hfuck8l' target=\"_blank\">https://wandb.ai/alvarodelamaza-vrije-universiteit-amsterdam/alvaro-master-thesis-tkh/runs/7hfuck8l</a><br> View project at: <a href='https://wandb.ai/alvarodelamaza-vrije-universiteit-amsterdam/alvaro-master-thesis-tkh' target=\"_blank\">https://wandb.ai/alvarodelamaza-vrije-universiteit-amsterdam/alvaro-master-thesis-tkh</a><br>Synced 5 W&B file(s), 0 media file(s), 0 artifact file(s) and 0 other file(s)"
      ],
      "text/plain": [
       "<IPython.core.display.HTML object>"
      ]
     },
     "metadata": {},
     "output_type": "display_data"
    },
    {
     "data": {
      "text/html": [
       "Find logs at: <code>./wandb/run-20250704_123450-7hfuck8l/logs</code>"
      ],
      "text/plain": [
       "<IPython.core.display.HTML object>"
      ]
     },
     "metadata": {},
     "output_type": "display_data"
    },
    {
     "ename": "Error",
     "evalue": "You must call wandb.init() before wandb.log()",
     "output_type": "error",
     "traceback": [
      "\u001b[0;31m---------------------------------------------------------------------------\u001b[0m",
      "\u001b[0;31mError\u001b[0m                                     Traceback (most recent call last)",
      "Cell \u001b[0;32mIn[7], line 403\u001b[0m\n\u001b[1;32m    400\u001b[0m     wandb\u001b[38;5;241m.\u001b[39mlog({\u001b[38;5;124m\"\u001b[39m\u001b[38;5;124mbest_val_loss\u001b[39m\u001b[38;5;124m\"\u001b[39m: best_val_loss})\n\u001b[1;32m    402\u001b[0m \u001b[38;5;28;01mif\u001b[39;00m \u001b[38;5;18m__name__\u001b[39m \u001b[38;5;241m==\u001b[39m \u001b[38;5;124m\"\u001b[39m\u001b[38;5;124m__main__\u001b[39m\u001b[38;5;124m\"\u001b[39m:\n\u001b[0;32m--> 403\u001b[0m     \u001b[43mmain\u001b[49m\u001b[43m(\u001b[49m\u001b[43m)\u001b[49m\n",
      "Cell \u001b[0;32mIn[7], line 400\u001b[0m, in \u001b[0;36mmain\u001b[0;34m()\u001b[0m\n\u001b[1;32m    397\u001b[0m best_val_loss \u001b[38;5;241m=\u001b[39m fine_tune_clip(model, train_loader, val_loader, optimizer, device,  model_name, epochs)\n\u001b[1;32m    399\u001b[0m \u001b[38;5;66;03m# Log the best validation loss to wandb\u001b[39;00m\n\u001b[0;32m--> 400\u001b[0m \u001b[43mwandb\u001b[49m\u001b[38;5;241;43m.\u001b[39;49m\u001b[43mlog\u001b[49m\u001b[43m(\u001b[49m\u001b[43m{\u001b[49m\u001b[38;5;124;43m\"\u001b[39;49m\u001b[38;5;124;43mbest_val_loss\u001b[39;49m\u001b[38;5;124;43m\"\u001b[39;49m\u001b[43m:\u001b[49m\u001b[43m \u001b[49m\u001b[43mbest_val_loss\u001b[49m\u001b[43m}\u001b[49m\u001b[43m)\u001b[49m\n",
      "File \u001b[0;32m/gpfs/home5/adelamaza/patent/patent-graph/.venv/lib/python3.11/site-packages/wandb/sdk/lib/preinit.py:36\u001b[0m, in \u001b[0;36mPreInitCallable.<locals>.preinit_wrapper\u001b[0;34m(*args, **kwargs)\u001b[0m\n\u001b[1;32m     35\u001b[0m \u001b[38;5;28;01mdef\u001b[39;00m\u001b[38;5;250m \u001b[39m\u001b[38;5;21mpreinit_wrapper\u001b[39m(\u001b[38;5;241m*\u001b[39margs: Any, \u001b[38;5;241m*\u001b[39m\u001b[38;5;241m*\u001b[39mkwargs: Any) \u001b[38;5;241m-\u001b[39m\u001b[38;5;241m>\u001b[39m Any:\n\u001b[0;32m---> 36\u001b[0m     \u001b[38;5;28;01mraise\u001b[39;00m wandb\u001b[38;5;241m.\u001b[39mError(\u001b[38;5;124mf\u001b[39m\u001b[38;5;124m\"\u001b[39m\u001b[38;5;124mYou must call wandb.init() before \u001b[39m\u001b[38;5;132;01m{\u001b[39;00mname\u001b[38;5;132;01m}\u001b[39;00m\u001b[38;5;124m()\u001b[39m\u001b[38;5;124m\"\u001b[39m)\n",
      "\u001b[0;31mError\u001b[0m: You must call wandb.init() before wandb.log()"
     ]
    }
   ],
   "source": [
    "import torch.nn as nn\n",
    "epochs=8\n",
    "model_name='fine_tuned_clip_model_ge_hier_a01_t01'\n",
    "\n",
    "class MultiPositiveContrastiveLoss(torch.nn.Module):\n",
    "    def __init__(self, temperature=0.1, graph_embedding_dict=None, alpha=0.1, device=None):\n",
    "        super().__init__()\n",
    "        self.temperature = temperature\n",
    "        self.graph_embedding_dict = graph_embedding_dict\n",
    "        self.alpha = alpha\n",
    "        self.device = device\n",
    "\n",
    "        # NEW: projection from graph space to image space\n",
    "        self.graph_projection = nn.Sequential(\n",
    "            nn.Linear(512, 256),\n",
    "            nn.ReLU(),\n",
    "            nn.Dropout(0.1),\n",
    "            \n",
    "        ).to(self.device)\n",
    "        self.image_projection = nn.Sequential(\n",
    "            nn.Linear(512, 256),\n",
    "            nn.ReLU(),\n",
    "            nn.Dropout(0.1),\n",
    "            \n",
    "            \n",
    "        ).to(self.device)\n",
    "\n",
    "    def forward(self, features, image_paths):\n",
    "        n = len(features)\n",
    "        \n",
    "        features = F.normalize(features, p=2, dim=1)\n",
    "        logits = torch.matmul(features, features.T) / self.temperature\n",
    "\n",
    "        labels = torch.arange(n, device=features.device) % (n // 2)\n",
    "        p = (labels.view(-1, 1) == labels.view(1, -1)).float()\n",
    "\n",
    "        mask = torch.eye(n, device=features.device)\n",
    "        p.masked_fill_(mask.bool(), 0)\n",
    "        logits.masked_fill_(mask.bool(), -1e9)\n",
    "\n",
    "        p = p / p.sum(dim=1, keepdim=True)\n",
    "        q = F.softmax(logits, dim=1)\n",
    "\n",
    "        loss_row = -(p * torch.log(q + 1e-7)).sum(dim=1).mean()\n",
    "        loss_col = -(p.t() * torch.log(q.t() + 1e-7)).sum(dim=1).mean()\n",
    "        cross_loss = (loss_row + loss_col) / 2\n",
    "\n",
    "        # Get anchor image features\n",
    "        projected_features = features[: (n // 2)]\n",
    "\n",
    "        # Get corresponding graph embeddings\n",
    "        graph_embeddings = torch.stack([\n",
    "            torch.from_numpy(self.graph_embedding_dict[path[24:]]).float() for path in image_paths\n",
    "        ]).to(features.device)\n",
    "\n",
    "\n",
    "\n",
    "        graph_embeddings = self.graph_projection(graph_embeddings)\n",
    "        graph_embeddings = F.normalize(graph_embeddings, p=2, dim=1)\n",
    "        projected_features = self.image_projection(projected_features)\n",
    "        projected_features = F.normalize(projected_features, p=2, dim=1)\n",
    "\n",
    "\n",
    "        # Alignment loss\n",
    "        graph_alignment_loss = 1 - F.cosine_similarity(projected_features, graph_embeddings, dim=1).mean()\n",
    "\n",
    "        loss = (1 - self.alpha) * cross_loss + self.alpha * graph_alignment_loss\n",
    "\n",
    "        return loss, cross_loss, graph_alignment_loss\n",
    "\n",
    "\n",
    "class ImageDataset(Dataset):\n",
    "    def __init__(self, anchor_paths, positive_paths, transform=None):\n",
    "        self.anchor_paths = anchor_paths\n",
    "        self.positive_paths = positive_paths\n",
    "        self.transform = transform\n",
    "\n",
    "    def __len__(self):\n",
    "        return len(self.anchor_paths)\n",
    "\n",
    "    def __getitem__(self, idx):\n",
    "        # Load anchor and positive images using torchvision.io\n",
    "        anchor_image = torchvision.io.read_image(self.anchor_paths[idx])\n",
    "        positive_image = torchvision.io.read_image(self.positive_paths[idx])\n",
    "        \n",
    "        # Convert to float and normalize to [0, 1]\n",
    "        anchor_image = anchor_image.float() / 255.0\n",
    "        positive_image = positive_image.float() / 255.0\n",
    "        \n",
    "        # Handle grayscale images (1 channel) by repeating to 3 channels\n",
    "        if anchor_image.shape[0] == 1:\n",
    "            anchor_image = anchor_image.repeat(3, 1, 1)\n",
    "        if positive_image.shape[0] == 1:\n",
    "            positive_image = positive_image.repeat(3, 1, 1)\n",
    "            \n",
    "        # Ensure we have 3 channels (RGB)\n",
    "        if anchor_image.shape[0] == 4:  # RGBA\n",
    "            anchor_image = anchor_image[:3]  # Take only RGB channels\n",
    "        if positive_image.shape[0] == 4:  # RGBA\n",
    "            positive_image = positive_image[:3]  # Take only RGB channels\n",
    "        \n",
    "        if self.transform:\n",
    "            anchor_image = self.transform(anchor_image)\n",
    "            positive_image = self.transform(positive_image)\n",
    "            \n",
    "        return anchor_image, positive_image\n",
    "\n",
    "def validate(model, val_loader, device):\n",
    "    \"\"\"\n",
    "    Validate the model on a validation set\n",
    "    \"\"\"\n",
    "    model.eval()\n",
    "    criterion = MultiPositiveContrastiveLoss( graph_embedding_dict=image_dict,  device=device)\n",
    "    \n",
    "    total_loss = 0\n",
    "    total_cross_loss = 0\n",
    "    total_graph_loss = 0\n",
    "    \n",
    "    with torch.no_grad():\n",
    "        for batch_idx, (anchors, positives) in enumerate(tqdm(val_loader, desc=\"Validating\")):\n",
    "            # Move images to device\n",
    "            anchors = anchors.to(device)\n",
    "            positives = positives.to(device)\n",
    "            \n",
    "            # Combine anchors and positives\n",
    "            combined_images = torch.cat([anchors, positives], dim=0)\n",
    "            \n",
    "            # Get features for all images\n",
    "            features = model.get_image_features(combined_images)\n",
    "            actual_batch_size = anchors.size(0)\n",
    "            \n",
    "            # Get image paths for the current batch\n",
    "            start_idx = batch_idx * val_loader.batch_size\n",
    "            end_idx = start_idx + actual_batch_size\n",
    "            batch_anchor_paths = val_loader.dataset.anchor_paths[start_idx:end_idx]\n",
    "            \n",
    "            # Calculate losses\n",
    "            loss, cross_loss, graph_alignment_loss = criterion(features, batch_anchor_paths)\n",
    "            \n",
    "            total_loss += loss.item()\n",
    "            total_cross_loss += cross_loss.item()\n",
    "            total_graph_loss += graph_alignment_loss.item()\n",
    "    \n",
    "    # Calculate average losses\n",
    "    avg_loss = total_loss / len(val_loader)\n",
    "    avg_cross_loss = total_cross_loss / len(val_loader)\n",
    "    avg_graph_loss = total_graph_loss / len(val_loader)\n",
    "    \n",
    "    return avg_loss, avg_cross_loss, avg_graph_loss\n",
    "\n",
    "def fine_tune_clip(model, train_loader, val_loader, optimizer, device,model_name, num_epochs=10):\n",
    "    \"\"\"\n",
    "    Fine-tune CLIP model using Multi-Positive Contrastive Loss with validation\n",
    "    \"\"\"\n",
    "    model.train()\n",
    "    criterion = MultiPositiveContrastiveLoss( graph_embedding_dict=image_dict, device=device)\n",
    "    best_val_loss = float('inf')\n",
    "    step = 0\n",
    "    \n",
    "    for epoch in range(num_epochs):\n",
    "        # Training phase\n",
    "        model.train()\n",
    "        total_loss = 0\n",
    "        \n",
    "        for batch_idx, (anchors, positives) in enumerate(tqdm(train_loader, desc=f\"Epoch {epoch+1}/{num_epochs}\")):\n",
    "            # Move images to device\n",
    "            anchors = anchors.to(device)\n",
    "            positives = positives.to(device)\n",
    "            \n",
    "            # Combine anchors and positives\n",
    "            combined_images = torch.cat([anchors, positives], dim=0)\n",
    "            \n",
    "            optimizer.zero_grad()\n",
    "            \n",
    "            # Get features for all images\n",
    "            features = model.get_image_features(combined_images)\n",
    "\n",
    "            # Get image paths for all images\n",
    "            image_paths = train_loader.dataset.anchor_paths[batch_idx*train_loader.batch_size:(batch_idx+1)*train_loader.batch_size] \n",
    "        \n",
    "            # Calculate multi-positive contrastive loss with graph embedding alignment term\n",
    "            loss, cross_loss, graph_alignment_loss = criterion(features, image_paths)\n",
    "\n",
    "            loss.backward()\n",
    "            optimizer.step()\n",
    "            \n",
    "            total_loss += loss.item()\n",
    "            \n",
    "            if batch_idx % 20 == 0:\n",
    "                print(f\"Epoch {epoch+1}/{num_epochs}, Batch {batch_idx}, Loss: {loss.item():.4f}, Cross-Entropy loss: {cross_loss:.4f}, Graph loss: {graph_alignment_loss:.4f}\")\n",
    "                step += 20\n",
    "                wandb.log({\n",
    "                    \"train/loss\": loss, \n",
    "                    \"train/cross_entropy_loss\": cross_loss, \n",
    "                    \"train/graph_loss\": graph_alignment_loss\n",
    "                }, step=step, commit=True)\n",
    "            if batch_idx % 60 == 0:\n",
    "                # Validation phase\n",
    "                val_loss, val_cross_loss, val_graph_loss = validate(model, val_loader, device)\n",
    "                \n",
    "                # Log validation metrics\n",
    "                wandb.log({\n",
    "                    \"val/loss\": val_loss,\n",
    "                    \"val/cross_entropy_loss\": val_cross_loss,\n",
    "                    \"val/graph_loss\": val_graph_loss,\n",
    "                    \"epoch\": epoch + 1\n",
    "                }, commit=True)\n",
    "                \n",
    "                print(f\"Epoch {epoch+1}/{num_epochs}, Train Loss: {total_loss/len(train_loader):.4f}, Val Loss: {val_loss:.4f}\")\n",
    "                print(f\"Val Cross-Entropy Loss: {val_cross_loss:.4f}, Val Graph Loss: {val_graph_loss:.4f}\")\n",
    "            if val_loss < best_val_loss:\n",
    "                    best_val_loss = val_loss\n",
    "                    print(f\"New best model found with validation loss: {best_val_loss:.4f}\")\n",
    "                    # Save the best model\n",
    "                    model.save_pretrained(f\"models/patent-wise/{model_name}_best\")\n",
    "                    \n",
    "                    # Optionally save metadata about the best model\n",
    "                    best_model_info = {\n",
    "                        \"epoch\": epoch + 1,\n",
    "                        \"batch\": batch_idx,\n",
    "                        \"val_loss\": best_val_loss,\n",
    "                        \"val_cross_loss\": val_cross_loss,\n",
    "                        \"val_graph_loss\": val_graph_loss\n",
    "                    }\n",
    "                    \n",
    "                    # Save the best model info as JSON\n",
    "                    with open(f\"models/patent-wise/{model_name}_best_info.json\", 'w') as f:\n",
    "                        json.dump(best_model_info, f, indent=4)\n",
    "        \n",
    "        # Full validation at the end of each epoch\n",
    "        val_loss, val_cross_loss, val_graph_loss = validate(model, val_loader, device)\n",
    "        \n",
    "        # Log end-of-epoch validation metrics\n",
    "        wandb.log({\n",
    "            \"epoch_val/loss\": val_loss,\n",
    "            \"epoch_val/cross_entropy_loss\": val_cross_loss,\n",
    "            \"epoch_val/graph_loss\": val_graph_loss,\n",
    "            \"epoch\": epoch + 1\n",
    "        }, commit=True)\n",
    "        \n",
    "        print(f\"End of Epoch {epoch+1}/{num_epochs}, Train Loss: {total_loss/len(train_loader):.4f}, Val Loss: {val_loss:.4f}\")\n",
    "        \n",
    "        # Check if this epoch's model is the best so far\n",
    "        if val_loss < best_val_loss:\n",
    "            best_val_loss = val_loss\n",
    "            print(f\"New best model found at end of epoch {epoch+1} with validation loss: {best_val_loss:.4f}\")\n",
    "            # Save the best model\n",
    "            model.save_pretrained(f\"models/patent-wise/{model_name}_best\")\n",
    "            \n",
    "            # Update best model info\n",
    "            best_model_info = {\n",
    "                \"epoch\": epoch + 1,\n",
    "                \"batch\": \"end_of_epoch\",\n",
    "                \"val_loss\": best_val_loss,\n",
    "                \"val_cross_loss\": val_cross_loss,\n",
    "                \"val_graph_loss\": val_graph_loss\n",
    "            }\n",
    "            \n",
    "            # Save the best model info\n",
    "            with open(f\"models/patent-wise/{model_name}_best_info.json\", 'w') as f:\n",
    "                json.dump(best_model_info, f, indent=4)\n",
    "    \n",
    "    # At the end of training, also save the final model\n",
    "    model.save_pretrained(f\"models/patent-wise/{model_name}_final\")\n",
    "\n",
    "    wandb.finish()\n",
    "\n",
    "def main():\n",
    "    wandb.login()\n",
    "    wandb.init(\n",
    "        entity=\"alvarodelamaza-vrije-universiteit-amsterdam\",\n",
    "        project=\"alvaro-master-thesis-tkh\",\n",
    "        config={\n",
    "            \"learning_rate\": 2e-5,\n",
    "            \"batch_size\": 128,\n",
    "            \"temperature\": 0.07,\n",
    "            \"architecture\": \"CLIP\",\n",
    "            \"dataset\": \"DeepPatnet2\",\n",
    "            \"training\": \"Patent\",\n",
    "            \"epochs\": epochs,\n",
    "            \"alpha\": 0.0,  # Add alpha to config for tracking\n",
    "        }\n",
    "    )\n",
    "    \n",
    "    # Import datetime for timestamping best model info\n",
    "    import datetime\n",
    "    \n",
    "    # Set device\n",
    "    device = torch.device('cuda' if torch.cuda.is_available() else 'cpu')\n",
    "    \n",
    "    # Load CLIP model\n",
    "    model = CLIPModel.from_pretrained(\"openai/clip-vit-base-patch16\").to(device)\n",
    "    \n",
    "    # Define transforms for tensor inputs\n",
    "    transform = transforms.Compose([\n",
    "        transforms.Resize((224, 224)),\n",
    "        transforms.RandomHorizontalFlip(),\n",
    "        transforms.Normalize(\n",
    "            mean=[0.48145466, 0.4578275, 0.40821073],\n",
    "            std=[0.26862954, 0.26130258, 0.27577711]\n",
    "        )\n",
    "    ])\n",
    "    \n",
    "    # Load your data paths\n",
    "    training_folder = \"../data/2018/test_gallery\"\n",
    "    training_query_folder = \"../data/2018/test_query\"\n",
    "    valid_extensions = {'.jpg', '.jpeg', '.png', '.JPG', '.JPEG', '.PNG'}\n",
    "\n",
    "    # Get image paths\n",
    "    all_query_image_paths = [str(path) for path in Path(training_query_folder).rglob(\"*\") \n",
    "                           if path.suffix in valid_extensions]\n",
    "    \n",
    "    # Load ground truth\n",
    "    with open('../data/2018/ground_truth_2018_cpc.json', 'r') as f:\n",
    "        ground_truth = json.load(f)\n",
    "    \n",
    "    # Create anchor and positive pairs\n",
    "    anchor_image_paths = []\n",
    "    positive_image_paths = []\n",
    "\n",
    "    for path in tqdm(all_query_image_paths):\n",
    "        # Parse the date from the file path\n",
    "        date_str = Path(path).name.split('-')[1]\n",
    "        year = int(date_str[:4])\n",
    "        month = int(date_str[4:6])\n",
    "        day = int(date_str[6:8])\n",
    "        \n",
    "        # Check if the date is before May and in image_dict\n",
    "        if month <= 5 and path[24:] in list(image_dict.keys()):\n",
    "            positives = ground_truth.get(Path(path).name, {}).get('patent_positives', [])\n",
    "            if positives:\n",
    "                anchor_image_paths.append(path)\n",
    "                positive_image_paths.append(str(Path(training_query_folder) / positives[0]))\n",
    "    \n",
    "    print(f\"Total eligible pairs: {len(anchor_image_paths)}\")\n",
    "    \n",
    "    # Replace the random split with patent-aware split\n",
    "    train_anchor_paths, train_positive_paths, val_anchor_paths, val_positive_paths = create_patent_aware_split(\n",
    "        anchor_image_paths, positive_image_paths, val_ratio=0.1\n",
    "    )\n",
    "\n",
    "    # Verify there's no overlap\n",
    "    overlap_count, _ = check_patent_overlap(train_anchor_paths, val_anchor_paths)\n",
    "    assert overlap_count == 0, \"Patent overlap detected despite patent-aware split!\"\n",
    "\n",
    "    # If you want to ensure no overlap, you can modify your split strategy\n",
    "    if overlap_count > 0:\n",
    "        print(\"Warning: Patent overlap detected between training and validation sets!\")\n",
    "    \n",
    "    print(f\"Training pairs: {len(train_anchor_paths)}\")\n",
    "    print(f\"Validation pairs: {len(val_anchor_paths)}\")\n",
    "    \n",
    "    # Create datasets and dataloaders\n",
    "    train_dataset = ImageDataset(train_anchor_paths, train_positive_paths, transform)\n",
    "    val_dataset = ImageDataset(val_anchor_paths, val_positive_paths, transform)\n",
    "    \n",
    "    train_loader = DataLoader(\n",
    "        train_dataset,\n",
    "        batch_size=128,\n",
    "        shuffle=True,\n",
    "        num_workers=18,\n",
    "        pin_memory=True,  \n",
    "        prefetch_factor=16,  \n",
    "        persistent_workers=True,\n",
    "        drop_last=True\n",
    "    )\n",
    "    \n",
    "    val_loader = DataLoader(\n",
    "        val_dataset,\n",
    "        batch_size=128,\n",
    "        shuffle=True,  # Changed to False - no need to shuffle validation data\n",
    "        num_workers=16,\n",
    "        pin_memory=True,\n",
    "        persistent_workers=True,\n",
    "        drop_last=False  # Keep all validation samples\n",
    "    )\n",
    "    \n",
    "    # Freeze base model and unfreeze specific layers\n",
    "    for param in model.parameters():\n",
    "        param.requires_grad = False\n",
    "    \n",
    "    # Unfreeze last few layers of vision encoder\n",
    "    for param in model.vision_model.encoder.layers[-9:].parameters():\n",
    "        param.requires_grad = True\n",
    "    \n",
    "    # Optimizer\n",
    "    optimizer = torch.optim.AdamW(\n",
    "        filter(lambda p: p.requires_grad, model.parameters()),\n",
    "        lr=2e-5,\n",
    "        weight_decay=0.01\n",
    "    )\n",
    "    \n",
    "    # Create directory if it doesn't exist\n",
    "    os.makedirs(\"models/patent-wise\", exist_ok=True)\n",
    "    \n",
    "    # Train the model with validation and save the best model\n",
    "    best_val_loss = fine_tune_clip(model, train_loader, val_loader, optimizer, device,  model_name, epochs)\n",
    "    \n",
    "    # Log the best validation loss to wandb\n",
    "    wandb.log({\"best_val_loss\": best_val_loss})\n",
    "    \n",
    "if __name__ == \"__main__\":\n",
    "    main()\n",
    "    "
   ]
  },
  {
   "cell_type": "code",
   "execution_count": 21,
   "metadata": {},
   "outputs": [
    {
     "data": {
      "text/html": [],
      "text/plain": [
       "<IPython.core.display.HTML object>"
      ]
     },
     "metadata": {},
     "output_type": "display_data"
    },
    {
     "data": {
      "text/html": [
       "<br>    <style><br>        .wandb-row {<br>            display: flex;<br>            flex-direction: row;<br>            flex-wrap: wrap;<br>            justify-content: flex-start;<br>            width: 100%;<br>        }<br>        .wandb-col {<br>            display: flex;<br>            flex-direction: column;<br>            flex-basis: 100%;<br>            flex: 1;<br>            padding: 10px;<br>        }<br>    </style><br><div class=\"wandb-row\"><div class=\"wandb-col\"><h3>Run history:</h3><br/><table class=\"wandb\"><tr><td>epoch</td><td>▁▁▁▁▂▂▂▂▄▄▄▄▅▅▅▅▇▇▇▇███</td></tr><tr><td>epoch_val/cross_entropy_loss</td><td>▅▁▂▇█</td></tr><tr><td>epoch_val/graph_loss</td><td>█▃▅▇▁</td></tr><tr><td>epoch_val/loss</td><td>▆▁▃▇█</td></tr><tr><td>train/cross_entropy_loss</td><td>█▄▄▄▃▃▃▂▂▃▂▂▃▂▂▂▂▂▁▁▁▁▁▁▁▁▁▁▁▁▁▁▁▁▁▁▁▁▁▁</td></tr><tr><td>train/graph_loss</td><td>█▅▇▆▃▅▆▄▅▆▆▇▅▇▇▅▆▅▇▄▅▇▅▆▅▄▅▄▅▆▄▄▃▁▃▅▅▃▃▂</td></tr><tr><td>train/loss</td><td>█▄▄▄▃▃▃▃▂▂▂▂▂▂▃▂▂▂▂▂▁▁▁▁▁▁▁▁▁▁▁▁▁▁▁▁▁▁▁▁</td></tr><tr><td>val/cross_entropy_loss</td><td>█▂▁▁▁▁▁▁▁▁▁▁▁▁▁▁▂▁</td></tr><tr><td>val/graph_loss</td><td>▄▅▃▇▆█▆▆▆▃▄▄▄▇▇▆▄▁</td></tr><tr><td>val/loss</td><td>█▂▁▁▁▁▁▁▁▁▁▁▁▁▁▁▂▁</td></tr></table><br/></div><div class=\"wandb-col\"><h3>Run summary:</h3><br/><table class=\"wandb\"><tr><td>epoch</td><td>6</td></tr><tr><td>epoch_val/cross_entropy_loss</td><td>2.0178</td></tr><tr><td>epoch_val/graph_loss</td><td>0.88578</td></tr><tr><td>epoch_val/loss</td><td>1.9046</td></tr><tr><td>train/cross_entropy_loss</td><td>0.12729</td></tr><tr><td>train/graph_loss</td><td>0.91586</td></tr><tr><td>train/loss</td><td>0.20615</td></tr><tr><td>val/cross_entropy_loss</td><td>2.01049</td></tr><tr><td>val/graph_loss</td><td>0.76223</td></tr><tr><td>val/loss</td><td>1.88566</td></tr></table><br/></div></div>"
      ],
      "text/plain": [
       "<IPython.core.display.HTML object>"
      ]
     },
     "metadata": {},
     "output_type": "display_data"
    },
    {
     "data": {
      "text/html": [
       " View run <strong style=\"color:#cdcd00\">deft-wave-165</strong> at: <a href='https://wandb.ai/alvarodelamaza-vrije-universiteit-amsterdam/alvaro-master-thesis-tkh/runs/xvtd42zi' target=\"_blank\">https://wandb.ai/alvarodelamaza-vrije-universiteit-amsterdam/alvaro-master-thesis-tkh/runs/xvtd42zi</a><br> View project at: <a href='https://wandb.ai/alvarodelamaza-vrije-universiteit-amsterdam/alvaro-master-thesis-tkh' target=\"_blank\">https://wandb.ai/alvarodelamaza-vrije-universiteit-amsterdam/alvaro-master-thesis-tkh</a><br>Synced 5 W&B file(s), 0 media file(s), 0 artifact file(s) and 0 other file(s)"
      ],
      "text/plain": [
       "<IPython.core.display.HTML object>"
      ]
     },
     "metadata": {},
     "output_type": "display_data"
    },
    {
     "data": {
      "text/html": [
       "Find logs at: <code>./wandb/run-20250703_113212-xvtd42zi/logs</code>"
      ],
      "text/plain": [
       "<IPython.core.display.HTML object>"
      ]
     },
     "metadata": {},
     "output_type": "display_data"
    }
   ],
   "source": [
    "wandb.finish()"
   ]
  },
  {
   "cell_type": "markdown",
   "metadata": {},
   "source": [
    "### Fine last"
   ]
  },
  {
   "cell_type": "code",
   "execution_count": 14,
   "metadata": {},
   "outputs": [
    {
     "name": "stdout",
     "output_type": "stream",
     "text": [
      "PCA-whitened VGAE matrix: torch.Size([32115, 128])\n"
     ]
    }
   ],
   "source": [
    "\n",
    "\n",
    "# ------------------------------------------------------------------\n",
    "# 0. PREP: build graph_id_map and load raw VGAE node embeddings\n",
    "# ------------------------------------------------------------------\n",
    "graph_id_map = {name: i for i, name in enumerate(image_dict.keys())}\n",
    "\n",
    "# raw_vgae_matrix: numpy array or torch tensor of shape (N_nodes, 512)\n",
    "raw_vgae_matrix = torch.tensor(\n",
    "    np.stack([image_dict[k] for k in graph_id_map.keys()]),\n",
    "    dtype=torch.float,\n",
    ")\n",
    "\n",
    "# ------------------------------------------------------------------\n",
    "# 1.  OPTIONAL – PCA + whitening to remove noisy dimensions\n",
    "#     (runs once on CPU; takes a few seconds for ~50 k nodes)\n",
    "# ------------------------------------------------------------------\n",
    "k = 128        # target dimension (match image‐side proj)\n",
    "with torch.no_grad():\n",
    "    X = raw_vgae_matrix        # (N,512)\n",
    "    mu = X.mean(0, keepdim=True)\n",
    "    Xc = X - mu                # center\n",
    "\n",
    "    # low-rank PCA (fast, GPU not required)\n",
    "    U, S, V = torch.pca_lowrank(Xc, q=k)\n",
    "    X_pca   = Xc @ V[:, :k]           # (N,128)\n",
    "    X_white = X_pca / S[:k].sqrt()    # whiten so each comp has unit var\n",
    "\n",
    "vgae_matrix = X_white                 # <-- replace the old 512-d matrix\n",
    "print(\"PCA-whitened VGAE matrix:\", vgae_matrix.shape)"
   ]
  },
  {
   "cell_type": "code",
   "execution_count": 22,
   "metadata": {},
   "outputs": [
    {
     "name": "stderr",
     "output_type": "stream",
     "text": [
      "\u001b[34m\u001b[1mwandb\u001b[0m: \u001b[33mWARNING\u001b[0m Calling wandb.login() after wandb.init() has no effect.\n"
     ]
    },
    {
     "name": "stderr",
     "output_type": "stream",
     "text": [
      "100%|██████████| 53492/53492 [00:10<00:00, 5155.43it/s]\n"
     ]
    },
    {
     "name": "stdout",
     "output_type": "stream",
     "text": [
      "Total eligible pairs: 22922\n"
     ]
    },
    {
     "name": "stderr",
     "output_type": "stream",
     "text": [
      "/scratch-local/adelamaza.12956739/ipykernel_1010266/2515997905.py:23: UserWarning: To copy construct from a tensor, it is recommended to use sourceTensor.detach().clone() or sourceTensor.detach().clone().requires_grad_(True), rather than torch.tensor(sourceTensor).\n",
      "  torch.tensor(vgae_matrix, dtype=torch.float), freeze=False)\n"
     ]
    },
    {
     "name": "stdout",
     "output_type": "stream",
     "text": [
      "Training pairs: 20630\n",
      "Validation pairs: 2292\n"
     ]
    },
    {
     "name": "stderr",
     "output_type": "stream",
     "text": [
      "Epoch 1/8:   0%|          | 0/161 [00:00<?, ?it/s]"
     ]
    },
    {
     "name": "stdout",
     "output_type": "stream",
     "text": [
      "Epoch 1/8, Batch 0, Loss: 4.9361, Cross-Entropy loss: 5.0216, Graph loss: 0.7458\n"
     ]
    },
    {
     "name": "stderr",
     "output_type": "stream",
     "text": []
    },
    {
     "name": "stdout",
     "output_type": "stream",
     "text": [
      "Epoch 1/8, Train Loss: 0.0307, Val Loss: 4.4012\n",
      "Val Cross-Entropy Loss: 4.4761, Val Graph Loss: 0.7318\n",
      "New best model found with validation loss: 4.4012\n"
     ]
    },
    {
     "name": "stderr",
     "output_type": "stream",
     "text": [
      "Epoch 1/8:  13%|█▎        | 21/161 [00:42<01:22,  1.71it/s] "
     ]
    },
    {
     "name": "stdout",
     "output_type": "stream",
     "text": [
      "Epoch 1/8, Batch 20, Loss: 3.4505, Cross-Entropy loss: 3.5046, Graph loss: 0.7986\n"
     ]
    },
    {
     "name": "stderr",
     "output_type": "stream",
     "text": [
      "Epoch 1/8:  25%|██▌       | 41/161 [00:53<01:09,  1.73it/s]"
     ]
    },
    {
     "name": "stdout",
     "output_type": "stream",
     "text": [
      "Epoch 1/8, Batch 40, Loss: 3.0266, Cross-Entropy loss: 3.0725, Graph loss: 0.7793\n"
     ]
    },
    {
     "name": "stderr",
     "output_type": "stream",
     "text": [
      "Epoch 1/8:  37%|███▋      | 60/161 [01:04<00:58,  1.73it/s]"
     ]
    },
    {
     "name": "stdout",
     "output_type": "stream",
     "text": [
      "Epoch 1/8, Batch 60, Loss: 3.0420, Cross-Entropy loss: 3.0887, Graph loss: 0.7548\n"
     ]
    },
    {
     "name": "stderr",
     "output_type": "stream",
     "text": []
    },
    {
     "name": "stdout",
     "output_type": "stream",
     "text": [
      "Epoch 1/8, Train Loss: 1.2697, Val Loss: 2.9807\n",
      "Val Cross-Entropy Loss: 3.0261, Val Graph Loss: 0.7558\n",
      "New best model found with validation loss: 2.9807\n"
     ]
    },
    {
     "name": "stderr",
     "output_type": "stream",
     "text": [
      "Epoch 1/8:  50%|█████     | 81/161 [01:34<00:46,  1.72it/s]"
     ]
    },
    {
     "name": "stdout",
     "output_type": "stream",
     "text": [
      "Epoch 1/8, Batch 80, Loss: 2.5782, Cross-Entropy loss: 2.6151, Graph loss: 0.7708\n"
     ]
    },
    {
     "name": "stderr",
     "output_type": "stream",
     "text": [
      "Epoch 1/8:  63%|██████▎   | 101/161 [01:45<00:34,  1.73it/s]"
     ]
    },
    {
     "name": "stdout",
     "output_type": "stream",
     "text": [
      "Epoch 1/8, Batch 100, Loss: 2.7878, Cross-Entropy loss: 2.8293, Graph loss: 0.7578\n"
     ]
    },
    {
     "name": "stderr",
     "output_type": "stream",
     "text": [
      "Epoch 1/8:  75%|███████▍  | 120/161 [01:56<00:23,  1.74it/s]"
     ]
    },
    {
     "name": "stdout",
     "output_type": "stream",
     "text": [
      "Epoch 1/8, Batch 120, Loss: 2.3938, Cross-Entropy loss: 2.4273, Graph loss: 0.7528\n"
     ]
    },
    {
     "name": "stderr",
     "output_type": "stream",
     "text": []
    },
    {
     "name": "stdout",
     "output_type": "stream",
     "text": [
      "Epoch 1/8, Train Loss: 2.2617, Val Loss: 2.7298\n",
      "Val Cross-Entropy Loss: 2.7703, Val Graph Loss: 0.7459\n",
      "New best model found with validation loss: 2.7298\n"
     ]
    },
    {
     "name": "stderr",
     "output_type": "stream",
     "text": [
      "Epoch 1/8:  88%|████████▊ | 141/161 [02:25<00:11,  1.73it/s]"
     ]
    },
    {
     "name": "stdout",
     "output_type": "stream",
     "text": [
      "Epoch 1/8, Batch 140, Loss: 2.3905, Cross-Entropy loss: 2.4241, Graph loss: 0.7434\n"
     ]
    },
    {
     "name": "stderr",
     "output_type": "stream",
     "text": [
      "Epoch 1/8: 100%|██████████| 161/161 [02:36<00:00,  1.03it/s]\n"
     ]
    },
    {
     "name": "stdout",
     "output_type": "stream",
     "text": [
      "Epoch 1/8, Batch 160, Loss: 2.3637, Cross-Entropy loss: 2.3964, Graph loss: 0.7593\n"
     ]
    },
    {
     "name": "stderr",
     "output_type": "stream",
     "text": [
      "                                                           \r"
     ]
    },
    {
     "name": "stdout",
     "output_type": "stream",
     "text": [
      "End of Epoch 1/8, Train Loss: 2.8566, Val Loss: 2.6178\n",
      "New best model found at end of epoch 1 with validation loss: 2.6178\n"
     ]
    },
    {
     "name": "stderr",
     "output_type": "stream",
     "text": [
      "Epoch 2/8:   0%|          | 0/161 [00:00<?, ?it/s]"
     ]
    },
    {
     "name": "stdout",
     "output_type": "stream",
     "text": [
      "Epoch 2/8, Batch 0, Loss: 1.9670, Cross-Entropy loss: 2.0167, Graph loss: 0.7750\n"
     ]
    },
    {
     "name": "stderr",
     "output_type": "stream",
     "text": []
    },
    {
     "name": "stdout",
     "output_type": "stream",
     "text": [
      "Epoch 2/8, Train Loss: 0.0122, Val Loss: 2.5375\n",
      "Val Cross-Entropy Loss: 2.6110, Val Graph Loss: 0.7733\n",
      "New best model found with validation loss: 2.5375\n"
     ]
    },
    {
     "name": "stderr",
     "output_type": "stream",
     "text": [
      "Epoch 2/8:  13%|█▎        | 21/161 [00:38<01:21,  1.71it/s] "
     ]
    },
    {
     "name": "stdout",
     "output_type": "stream",
     "text": [
      "Epoch 2/8, Batch 20, Loss: 2.2024, Cross-Entropy loss: 2.2626, Graph loss: 0.7577\n"
     ]
    },
    {
     "name": "stderr",
     "output_type": "stream",
     "text": [
      "Epoch 2/8:  25%|██▌       | 41/161 [00:49<01:09,  1.73it/s]"
     ]
    },
    {
     "name": "stdout",
     "output_type": "stream",
     "text": [
      "Epoch 2/8, Batch 40, Loss: 1.8948, Cross-Entropy loss: 1.9424, Graph loss: 0.7507\n"
     ]
    },
    {
     "name": "stderr",
     "output_type": "stream",
     "text": [
      "Epoch 2/8:  37%|███▋      | 60/161 [01:00<00:58,  1.74it/s]"
     ]
    },
    {
     "name": "stdout",
     "output_type": "stream",
     "text": [
      "Epoch 2/8, Batch 60, Loss: 1.8488, Cross-Entropy loss: 1.8948, Graph loss: 0.7448\n"
     ]
    },
    {
     "name": "stderr",
     "output_type": "stream",
     "text": []
    },
    {
     "name": "stdout",
     "output_type": "stream",
     "text": [
      "Epoch 2/8, Train Loss: 0.7264, Val Loss: 2.5031\n",
      "Val Cross-Entropy Loss: 2.5762, Val Graph Loss: 0.7507\n",
      "New best model found with validation loss: 2.5031\n"
     ]
    },
    {
     "name": "stderr",
     "output_type": "stream",
     "text": [
      "Epoch 2/8:  50%|█████     | 81/161 [01:30<00:46,  1.73it/s]"
     ]
    },
    {
     "name": "stdout",
     "output_type": "stream",
     "text": [
      "Epoch 2/8, Batch 80, Loss: 1.8600, Cross-Entropy loss: 1.9069, Graph loss: 0.7358\n"
     ]
    },
    {
     "name": "stderr",
     "output_type": "stream",
     "text": [
      "Epoch 2/8:  63%|██████▎   | 101/161 [01:42<00:34,  1.74it/s]"
     ]
    },
    {
     "name": "stdout",
     "output_type": "stream",
     "text": [
      "Epoch 2/8, Batch 100, Loss: 1.7070, Cross-Entropy loss: 1.7479, Graph loss: 0.7252\n"
     ]
    },
    {
     "name": "stderr",
     "output_type": "stream",
     "text": [
      "Epoch 2/8:  75%|███████▍  | 120/161 [01:53<00:23,  1.74it/s]"
     ]
    },
    {
     "name": "stdout",
     "output_type": "stream",
     "text": [
      "Epoch 2/8, Batch 120, Loss: 1.7163, Cross-Entropy loss: 1.7568, Graph loss: 0.7442\n"
     ]
    },
    {
     "name": "stderr",
     "output_type": "stream",
     "text": []
    },
    {
     "name": "stdout",
     "output_type": "stream",
     "text": [
      "Epoch 2/8, Train Loss: 1.4029, Val Loss: 2.4074\n",
      "Val Cross-Entropy Loss: 2.4768, Val Graph Loss: 0.7410\n",
      "New best model found with validation loss: 2.4074\n"
     ]
    },
    {
     "name": "stderr",
     "output_type": "stream",
     "text": [
      "Epoch 2/8:  88%|████████▊ | 141/161 [02:22<00:11,  1.73it/s]"
     ]
    },
    {
     "name": "stdout",
     "output_type": "stream",
     "text": [
      "Epoch 2/8, Batch 140, Loss: 1.9761, Cross-Entropy loss: 2.0277, Graph loss: 0.7379\n"
     ]
    },
    {
     "name": "stderr",
     "output_type": "stream",
     "text": [
      "Epoch 2/8: 100%|██████████| 161/161 [02:34<00:00,  1.04it/s]\n"
     ]
    },
    {
     "name": "stdout",
     "output_type": "stream",
     "text": [
      "Epoch 2/8, Batch 160, Loss: 1.6979, Cross-Entropy loss: 1.7372, Graph loss: 0.7543\n"
     ]
    },
    {
     "name": "stderr",
     "output_type": "stream",
     "text": [
      "                                                           \r"
     ]
    },
    {
     "name": "stdout",
     "output_type": "stream",
     "text": [
      "End of Epoch 2/8, Train Loss: 1.8192, Val Loss: 2.3900\n",
      "New best model found at end of epoch 2 with validation loss: 2.3900\n"
     ]
    },
    {
     "name": "stderr",
     "output_type": "stream",
     "text": [
      "Epoch 3/8:   0%|          | 0/161 [00:00<?, ?it/s]"
     ]
    },
    {
     "name": "stdout",
     "output_type": "stream",
     "text": [
      "Epoch 3/8, Batch 0, Loss: 1.1555, Cross-Entropy loss: 1.1797, Graph loss: 0.7762\n"
     ]
    },
    {
     "name": "stderr",
     "output_type": "stream",
     "text": []
    },
    {
     "name": "stdout",
     "output_type": "stream",
     "text": [
      "Epoch 3/8, Train Loss: 0.0072, Val Loss: 2.3812\n",
      "Val Cross-Entropy Loss: 2.4845, Val Graph Loss: 0.7636\n",
      "New best model found with validation loss: 2.3812\n"
     ]
    },
    {
     "name": "stderr",
     "output_type": "stream",
     "text": [
      "Epoch 3/8:  13%|█▎        | 21/161 [00:39<01:22,  1.70it/s] "
     ]
    },
    {
     "name": "stdout",
     "output_type": "stream",
     "text": [
      "Epoch 3/8, Batch 20, Loss: 1.3006, Cross-Entropy loss: 1.3356, Graph loss: 0.7536\n"
     ]
    },
    {
     "name": "stderr",
     "output_type": "stream",
     "text": [
      "Epoch 3/8:  25%|██▌       | 41/161 [00:51<01:09,  1.73it/s]"
     ]
    },
    {
     "name": "stdout",
     "output_type": "stream",
     "text": [
      "Epoch 3/8, Batch 40, Loss: 1.2316, Cross-Entropy loss: 1.2622, Graph loss: 0.7518\n"
     ]
    },
    {
     "name": "stderr",
     "output_type": "stream",
     "text": [
      "Epoch 3/8:  37%|███▋      | 60/161 [01:02<00:58,  1.72it/s]"
     ]
    },
    {
     "name": "stdout",
     "output_type": "stream",
     "text": [
      "Epoch 3/8, Batch 60, Loss: 1.2965, Cross-Entropy loss: 1.3311, Graph loss: 0.7536\n"
     ]
    },
    {
     "name": "stderr",
     "output_type": "stream",
     "text": []
    },
    {
     "name": "stdout",
     "output_type": "stream",
     "text": [
      "Epoch 3/8, Train Loss: 0.4759, Val Loss: 2.3804\n",
      "Val Cross-Entropy Loss: 2.4840, Val Graph Loss: 0.7570\n",
      "New best model found with validation loss: 2.3804\n"
     ]
    },
    {
     "name": "stderr",
     "output_type": "stream",
     "text": [
      "Epoch 3/8:  50%|█████     | 81/161 [01:31<00:46,  1.72it/s]"
     ]
    },
    {
     "name": "stdout",
     "output_type": "stream",
     "text": [
      "Epoch 3/8, Batch 80, Loss: 1.4293, Cross-Entropy loss: 1.4718, Graph loss: 0.7620\n"
     ]
    },
    {
     "name": "stderr",
     "output_type": "stream",
     "text": [
      "Epoch 3/8:  63%|██████▎   | 101/161 [01:43<00:34,  1.73it/s]"
     ]
    },
    {
     "name": "stdout",
     "output_type": "stream",
     "text": [
      "Epoch 3/8, Batch 100, Loss: 1.2348, Cross-Entropy loss: 1.2647, Graph loss: 0.7660\n"
     ]
    },
    {
     "name": "stderr",
     "output_type": "stream",
     "text": [
      "Epoch 3/8:  75%|███████▍  | 120/161 [01:54<00:23,  1.74it/s]"
     ]
    },
    {
     "name": "stdout",
     "output_type": "stream",
     "text": [
      "Epoch 3/8, Batch 120, Loss: 1.2051, Cross-Entropy loss: 1.2350, Graph loss: 0.7377\n"
     ]
    },
    {
     "name": "stderr",
     "output_type": "stream",
     "text": [
      "Epoch 3/8:  75%|███████▌  | 121/161 [02:10<03:29,  5.25s/it]"
     ]
    },
    {
     "name": "stdout",
     "output_type": "stream",
     "text": [
      "Epoch 3/8, Train Loss: 0.9080, Val Loss: 2.3813\n",
      "Val Cross-Entropy Loss: 2.4856, Val Graph Loss: 0.7468\n"
     ]
    },
    {
     "name": "stderr",
     "output_type": "stream",
     "text": [
      "Epoch 3/8:  88%|████████▊ | 141/161 [02:21<00:11,  1.72it/s]"
     ]
    },
    {
     "name": "stdout",
     "output_type": "stream",
     "text": [
      "Epoch 3/8, Batch 140, Loss: 1.2096, Cross-Entropy loss: 1.2388, Graph loss: 0.7514\n"
     ]
    },
    {
     "name": "stderr",
     "output_type": "stream",
     "text": [
      "Epoch 3/8: 100%|██████████| 161/161 [02:33<00:00,  1.05it/s]\n"
     ]
    },
    {
     "name": "stdout",
     "output_type": "stream",
     "text": [
      "Epoch 3/8, Batch 160, Loss: 1.1111, Cross-Entropy loss: 1.1331, Graph loss: 0.7670\n"
     ]
    },
    {
     "name": "stderr",
     "output_type": "stream",
     "text": [
      "                                                           \r"
     ]
    },
    {
     "name": "stdout",
     "output_type": "stream",
     "text": [
      "End of Epoch 3/8, Train Loss: 1.1844, Val Loss: 2.4084\n"
     ]
    },
    {
     "name": "stderr",
     "output_type": "stream",
     "text": [
      "Epoch 4/8:   0%|          | 0/161 [00:00<?, ?it/s]"
     ]
    },
    {
     "name": "stdout",
     "output_type": "stream",
     "text": [
      "Epoch 4/8, Batch 0, Loss: 0.9409, Cross-Entropy loss: 0.9553, Graph loss: 0.7748\n"
     ]
    },
    {
     "name": "stderr",
     "output_type": "stream",
     "text": [
      "Epoch 4/8:   1%|          | 1/161 [00:27<1:13:39, 27.62s/it]"
     ]
    },
    {
     "name": "stdout",
     "output_type": "stream",
     "text": [
      "Epoch 4/8, Train Loss: 0.0058, Val Loss: 2.3923\n",
      "Val Cross-Entropy Loss: 2.5335, Val Graph Loss: 0.7681\n"
     ]
    },
    {
     "name": "stderr",
     "output_type": "stream",
     "text": [
      "Epoch 4/8:  13%|█▎        | 21/161 [00:39<01:21,  1.71it/s] "
     ]
    },
    {
     "name": "stdout",
     "output_type": "stream",
     "text": [
      "Epoch 4/8, Batch 20, Loss: 0.8378, Cross-Entropy loss: 0.8439, Graph loss: 0.7683\n"
     ]
    },
    {
     "name": "stderr",
     "output_type": "stream",
     "text": [
      "Epoch 4/8:  25%|██▌       | 41/161 [00:50<01:09,  1.73it/s]"
     ]
    },
    {
     "name": "stdout",
     "output_type": "stream",
     "text": [
      "Epoch 4/8, Batch 40, Loss: 0.7304, Cross-Entropy loss: 0.7276, Graph loss: 0.7620\n"
     ]
    },
    {
     "name": "stderr",
     "output_type": "stream",
     "text": [
      "Epoch 4/8:  37%|███▋      | 60/161 [01:01<00:58,  1.72it/s]"
     ]
    },
    {
     "name": "stdout",
     "output_type": "stream",
     "text": [
      "Epoch 4/8, Batch 60, Loss: 0.8387, Cross-Entropy loss: 0.8462, Graph loss: 0.7515\n"
     ]
    },
    {
     "name": "stderr",
     "output_type": "stream",
     "text": []
    },
    {
     "name": "stdout",
     "output_type": "stream",
     "text": [
      "Epoch 4/8, Train Loss: 0.3156, Val Loss: 2.3122\n",
      "Val Cross-Entropy Loss: 2.4490, Val Graph Loss: 0.7381\n",
      "New best model found with validation loss: 2.3122\n"
     ]
    },
    {
     "name": "stderr",
     "output_type": "stream",
     "text": [
      "Epoch 4/8:  50%|█████     | 81/161 [01:31<00:46,  1.72it/s]"
     ]
    },
    {
     "name": "stdout",
     "output_type": "stream",
     "text": [
      "Epoch 4/8, Batch 80, Loss: 0.8298, Cross-Entropy loss: 0.8351, Graph loss: 0.7686\n"
     ]
    },
    {
     "name": "stderr",
     "output_type": "stream",
     "text": [
      "Epoch 4/8:  63%|██████▎   | 101/161 [01:43<00:34,  1.74it/s]"
     ]
    },
    {
     "name": "stdout",
     "output_type": "stream",
     "text": [
      "Epoch 4/8, Batch 100, Loss: 0.8957, Cross-Entropy loss: 0.9076, Graph loss: 0.7589\n"
     ]
    },
    {
     "name": "stderr",
     "output_type": "stream",
     "text": [
      "Epoch 4/8:  75%|███████▍  | 120/161 [01:54<00:23,  1.74it/s]"
     ]
    },
    {
     "name": "stdout",
     "output_type": "stream",
     "text": [
      "Epoch 4/8, Batch 120, Loss: 0.6921, Cross-Entropy loss: 0.6867, Graph loss: 0.7544\n"
     ]
    },
    {
     "name": "stderr",
     "output_type": "stream",
     "text": [
      "Epoch 4/8:  75%|███████▌  | 121/161 [02:10<03:31,  5.29s/it]"
     ]
    },
    {
     "name": "stdout",
     "output_type": "stream",
     "text": [
      "Epoch 4/8, Train Loss: 0.6032, Val Loss: 2.4294\n",
      "Val Cross-Entropy Loss: 2.5758, Val Graph Loss: 0.7462\n"
     ]
    },
    {
     "name": "stderr",
     "output_type": "stream",
     "text": [
      "Epoch 4/8:  88%|████████▊ | 141/161 [02:22<00:11,  1.72it/s]"
     ]
    },
    {
     "name": "stdout",
     "output_type": "stream",
     "text": [
      "Epoch 4/8, Batch 140, Loss: 0.6535, Cross-Entropy loss: 0.6434, Graph loss: 0.7690\n"
     ]
    },
    {
     "name": "stderr",
     "output_type": "stream",
     "text": [
      "Epoch 4/8: 100%|██████████| 161/161 [02:33<00:00,  1.05it/s]\n"
     ]
    },
    {
     "name": "stdout",
     "output_type": "stream",
     "text": [
      "Epoch 4/8, Batch 160, Loss: 0.7506, Cross-Entropy loss: 0.7488, Graph loss: 0.7712\n"
     ]
    },
    {
     "name": "stderr",
     "output_type": "stream",
     "text": [
      "                                                           \r"
     ]
    },
    {
     "name": "stdout",
     "output_type": "stream",
     "text": [
      "End of Epoch 4/8, Train Loss: 0.7856, Val Loss: 2.3628\n"
     ]
    },
    {
     "name": "stderr",
     "output_type": "stream",
     "text": [
      "Epoch 5/8:   0%|          | 0/161 [00:00<?, ?it/s]"
     ]
    },
    {
     "name": "stdout",
     "output_type": "stream",
     "text": [
      "Epoch 5/8, Batch 0, Loss: 0.7563, Cross-Entropy loss: 0.7538, Graph loss: 0.7784\n"
     ]
    },
    {
     "name": "stderr",
     "output_type": "stream",
     "text": [
      "Epoch 5/8:   1%|          | 1/161 [00:26<1:10:02, 26.27s/it]"
     ]
    },
    {
     "name": "stdout",
     "output_type": "stream",
     "text": [
      "Epoch 5/8, Train Loss: 0.0047, Val Loss: 2.3837\n",
      "Val Cross-Entropy Loss: 2.5639, Val Graph Loss: 0.7620\n"
     ]
    },
    {
     "name": "stderr",
     "output_type": "stream",
     "text": [
      "Epoch 5/8:  13%|█▎        | 21/161 [00:37<01:21,  1.71it/s] "
     ]
    },
    {
     "name": "stdout",
     "output_type": "stream",
     "text": [
      "Epoch 5/8, Batch 20, Loss: 0.5611, Cross-Entropy loss: 0.5388, Graph loss: 0.7615\n"
     ]
    },
    {
     "name": "stderr",
     "output_type": "stream",
     "text": [
      "Epoch 5/8:  25%|██▌       | 41/161 [00:49<01:09,  1.73it/s]"
     ]
    },
    {
     "name": "stdout",
     "output_type": "stream",
     "text": [
      "Epoch 5/8, Batch 40, Loss: 0.5678, Cross-Entropy loss: 0.5444, Graph loss: 0.7780\n"
     ]
    },
    {
     "name": "stderr",
     "output_type": "stream",
     "text": [
      "Epoch 5/8:  37%|███▋      | 60/161 [01:00<00:58,  1.73it/s]"
     ]
    },
    {
     "name": "stdout",
     "output_type": "stream",
     "text": [
      "Epoch 5/8, Batch 60, Loss: 0.6322, Cross-Entropy loss: 0.6177, Graph loss: 0.7620\n"
     ]
    },
    {
     "name": "stderr",
     "output_type": "stream",
     "text": [
      "Epoch 5/8:  38%|███▊      | 61/161 [01:17<09:21,  5.61s/it]"
     ]
    },
    {
     "name": "stdout",
     "output_type": "stream",
     "text": [
      "Epoch 5/8, Train Loss: 0.2141, Val Loss: 2.3998\n",
      "Val Cross-Entropy Loss: 2.5823, Val Graph Loss: 0.7574\n"
     ]
    },
    {
     "name": "stderr",
     "output_type": "stream",
     "text": [
      "Epoch 5/8:  50%|█████     | 81/161 [01:29<00:46,  1.72it/s]"
     ]
    },
    {
     "name": "stdout",
     "output_type": "stream",
     "text": [
      "Epoch 5/8, Batch 80, Loss: 0.4065, Cross-Entropy loss: 0.3670, Graph loss: 0.7625\n"
     ]
    },
    {
     "name": "stderr",
     "output_type": "stream",
     "text": [
      "Epoch 5/8:  63%|██████▎   | 101/161 [01:40<00:34,  1.73it/s]"
     ]
    },
    {
     "name": "stdout",
     "output_type": "stream",
     "text": [
      "Epoch 5/8, Batch 100, Loss: 0.5654, Cross-Entropy loss: 0.5429, Graph loss: 0.7678\n"
     ]
    },
    {
     "name": "stderr",
     "output_type": "stream",
     "text": [
      "Epoch 5/8:  75%|███████▍  | 120/161 [01:51<00:23,  1.73it/s]"
     ]
    },
    {
     "name": "stdout",
     "output_type": "stream",
     "text": [
      "Epoch 5/8, Batch 120, Loss: 0.4456, Cross-Entropy loss: 0.4112, Graph loss: 0.7552\n"
     ]
    },
    {
     "name": "stderr",
     "output_type": "stream",
     "text": [
      "Epoch 5/8:  75%|███████▌  | 121/161 [02:08<03:38,  5.46s/it]"
     ]
    },
    {
     "name": "stdout",
     "output_type": "stream",
     "text": [
      "Epoch 5/8, Train Loss: 0.4209, Val Loss: 2.3399\n",
      "Val Cross-Entropy Loss: 2.5158, Val Graph Loss: 0.7565\n"
     ]
    },
    {
     "name": "stderr",
     "output_type": "stream",
     "text": [
      "Epoch 5/8:  88%|████████▊ | 141/161 [02:20<00:11,  1.72it/s]"
     ]
    },
    {
     "name": "stdout",
     "output_type": "stream",
     "text": [
      "Epoch 5/8, Batch 140, Loss: 0.5690, Cross-Entropy loss: 0.5458, Graph loss: 0.7776\n"
     ]
    },
    {
     "name": "stderr",
     "output_type": "stream",
     "text": [
      "Epoch 5/8: 100%|██████████| 161/161 [02:31<00:00,  1.06it/s]\n"
     ]
    },
    {
     "name": "stdout",
     "output_type": "stream",
     "text": [
      "Epoch 5/8, Batch 160, Loss: 0.5298, Cross-Entropy loss: 0.5052, Graph loss: 0.7512\n"
     ]
    },
    {
     "name": "stderr",
     "output_type": "stream",
     "text": [
      "                                                           \r"
     ]
    },
    {
     "name": "stdout",
     "output_type": "stream",
     "text": [
      "End of Epoch 5/8, Train Loss: 0.5491, Val Loss: 2.3486\n"
     ]
    },
    {
     "name": "stderr",
     "output_type": "stream",
     "text": [
      "Epoch 6/8:   0%|          | 0/161 [00:00<?, ?it/s]"
     ]
    },
    {
     "name": "stdout",
     "output_type": "stream",
     "text": [
      "Epoch 6/8, Batch 0, Loss: 0.5041, Cross-Entropy loss: 0.4762, Graph loss: 0.7557\n"
     ]
    },
    {
     "name": "stderr",
     "output_type": "stream",
     "text": [
      "Epoch 6/8:   1%|          | 1/161 [00:26<1:10:45, 26.53s/it]"
     ]
    },
    {
     "name": "stdout",
     "output_type": "stream",
     "text": [
      "Epoch 6/8, Train Loss: 0.0031, Val Loss: 2.3233\n",
      "Val Cross-Entropy Loss: 2.4980, Val Graph Loss: 0.7514\n"
     ]
    },
    {
     "name": "stderr",
     "output_type": "stream",
     "text": [
      "Epoch 6/8:  13%|█▎        | 21/161 [00:38<01:21,  1.71it/s] "
     ]
    },
    {
     "name": "stdout",
     "output_type": "stream",
     "text": [
      "Epoch 6/8, Batch 20, Loss: 0.4755, Cross-Entropy loss: 0.4438, Graph loss: 0.7604\n"
     ]
    },
    {
     "name": "stderr",
     "output_type": "stream",
     "text": [
      "Epoch 6/8:  25%|██▌       | 41/161 [00:49<01:09,  1.73it/s]"
     ]
    },
    {
     "name": "stdout",
     "output_type": "stream",
     "text": [
      "Epoch 6/8, Batch 40, Loss: 0.5231, Cross-Entropy loss: 0.4960, Graph loss: 0.7671\n"
     ]
    },
    {
     "name": "stderr",
     "output_type": "stream",
     "text": [
      "Epoch 6/8:  37%|███▋      | 60/161 [01:00<00:58,  1.73it/s]"
     ]
    },
    {
     "name": "stdout",
     "output_type": "stream",
     "text": [
      "Epoch 6/8, Batch 60, Loss: 0.3715, Cross-Entropy loss: 0.3288, Graph loss: 0.7556\n"
     ]
    },
    {
     "name": "stderr",
     "output_type": "stream",
     "text": [
      "Epoch 6/8:  38%|███▊      | 61/161 [01:19<10:00,  6.00s/it]"
     ]
    },
    {
     "name": "stdout",
     "output_type": "stream",
     "text": [
      "Epoch 6/8, Train Loss: 0.1682, Val Loss: 2.3347\n",
      "Val Cross-Entropy Loss: 2.5103, Val Graph Loss: 0.7544\n"
     ]
    },
    {
     "name": "stderr",
     "output_type": "stream",
     "text": [
      "Epoch 6/8:  44%|████▍     | 71/161 [01:25<01:48,  1.20s/it]\n"
     ]
    },
    {
     "ename": "KeyboardInterrupt",
     "evalue": "",
     "output_type": "error",
     "traceback": [
      "\u001b[0;31m---------------------------------------------------------------------------\u001b[0m",
      "\u001b[0;31mKeyboardInterrupt\u001b[0m                         Traceback (most recent call last)",
      "Cell \u001b[0;32mIn[22], line 386\u001b[0m\n\u001b[1;32m    383\u001b[0m     wandb\u001b[38;5;241m.\u001b[39mlog({\u001b[38;5;124m\"\u001b[39m\u001b[38;5;124mbest_val_loss\u001b[39m\u001b[38;5;124m\"\u001b[39m: best_val_loss})\n\u001b[1;32m    385\u001b[0m \u001b[38;5;28;01mif\u001b[39;00m \u001b[38;5;18m__name__\u001b[39m \u001b[38;5;241m==\u001b[39m \u001b[38;5;124m\"\u001b[39m\u001b[38;5;124m__main__\u001b[39m\u001b[38;5;124m\"\u001b[39m:\n\u001b[0;32m--> 386\u001b[0m     \u001b[43mmain\u001b[49m\u001b[43m(\u001b[49m\u001b[43m)\u001b[49m\n",
      "Cell \u001b[0;32mIn[22], line 380\u001b[0m, in \u001b[0;36mmain\u001b[0;34m()\u001b[0m\n\u001b[1;32m    377\u001b[0m os\u001b[38;5;241m.\u001b[39mmakedirs(\u001b[38;5;124m\"\u001b[39m\u001b[38;5;124mmodels/patent-wise\u001b[39m\u001b[38;5;124m\"\u001b[39m, exist_ok\u001b[38;5;241m=\u001b[39m\u001b[38;5;28;01mTrue\u001b[39;00m)\n\u001b[1;32m    379\u001b[0m \u001b[38;5;66;03m# Train the model with validation and save the best model\u001b[39;00m\n\u001b[0;32m--> 380\u001b[0m best_val_loss \u001b[38;5;241m=\u001b[39m \u001b[43mfine_tune_clip\u001b[49m\u001b[43m(\u001b[49m\u001b[43mmodel\u001b[49m\u001b[43m,\u001b[49m\u001b[43m \u001b[49m\u001b[43mtrain_loader\u001b[49m\u001b[43m,\u001b[49m\u001b[43m \u001b[49m\u001b[43mval_loader\u001b[49m\u001b[43m,\u001b[49m\u001b[43m  \u001b[49m\u001b[43mdevice\u001b[49m\u001b[43m,\u001b[49m\u001b[43m  \u001b[49m\u001b[43mmodel_name\u001b[49m\u001b[43m,\u001b[49m\u001b[43m \u001b[49m\u001b[43mepochs\u001b[49m\u001b[43m)\u001b[49m\n\u001b[1;32m    382\u001b[0m \u001b[38;5;66;03m# Log the best validation loss to wandb\u001b[39;00m\n\u001b[1;32m    383\u001b[0m wandb\u001b[38;5;241m.\u001b[39mlog({\u001b[38;5;124m\"\u001b[39m\u001b[38;5;124mbest_val_loss\u001b[39m\u001b[38;5;124m\"\u001b[39m: best_val_loss})\n",
      "Cell \u001b[0;32mIn[22], line 170\u001b[0m, in \u001b[0;36mfine_tune_clip\u001b[0;34m(model, train_loader, val_loader, device, model_name, num_epochs)\u001b[0m\n\u001b[1;32m    167\u001b[0m image_paths \u001b[38;5;241m=\u001b[39m train_loader\u001b[38;5;241m.\u001b[39mdataset\u001b[38;5;241m.\u001b[39manchor_paths[batch_idx\u001b[38;5;241m*\u001b[39mtrain_loader\u001b[38;5;241m.\u001b[39mbatch_size:(batch_idx\u001b[38;5;241m+\u001b[39m\u001b[38;5;241m1\u001b[39m)\u001b[38;5;241m*\u001b[39mtrain_loader\u001b[38;5;241m.\u001b[39mbatch_size] \n\u001b[1;32m    169\u001b[0m \u001b[38;5;66;03m# Calculate multi-positive contrastive loss with graph embedding alignment term\u001b[39;00m\n\u001b[0;32m--> 170\u001b[0m loss, cross_loss, graph_alignment_loss \u001b[38;5;241m=\u001b[39m \u001b[43mcriterion\u001b[49m\u001b[43m(\u001b[49m\u001b[43mfeatures\u001b[49m\u001b[43m,\u001b[49m\u001b[43m \u001b[49m\u001b[43mimage_paths\u001b[49m\u001b[43m)\u001b[49m\n\u001b[1;32m    172\u001b[0m loss\u001b[38;5;241m.\u001b[39mbackward()\n\u001b[1;32m    173\u001b[0m optimizer\u001b[38;5;241m.\u001b[39mstep()\n",
      "File \u001b[0;32m/gpfs/home5/adelamaza/patent/patent-graph/.venv/lib64/python3.11/site-packages/torch/nn/modules/module.py:1751\u001b[0m, in \u001b[0;36mModule._wrapped_call_impl\u001b[0;34m(self, *args, **kwargs)\u001b[0m\n\u001b[1;32m   1749\u001b[0m     \u001b[38;5;28;01mreturn\u001b[39;00m \u001b[38;5;28mself\u001b[39m\u001b[38;5;241m.\u001b[39m_compiled_call_impl(\u001b[38;5;241m*\u001b[39margs, \u001b[38;5;241m*\u001b[39m\u001b[38;5;241m*\u001b[39mkwargs)  \u001b[38;5;66;03m# type: ignore[misc]\u001b[39;00m\n\u001b[1;32m   1750\u001b[0m \u001b[38;5;28;01melse\u001b[39;00m:\n\u001b[0;32m-> 1751\u001b[0m     \u001b[38;5;28;01mreturn\u001b[39;00m \u001b[38;5;28;43mself\u001b[39;49m\u001b[38;5;241;43m.\u001b[39;49m\u001b[43m_call_impl\u001b[49m\u001b[43m(\u001b[49m\u001b[38;5;241;43m*\u001b[39;49m\u001b[43margs\u001b[49m\u001b[43m,\u001b[49m\u001b[43m \u001b[49m\u001b[38;5;241;43m*\u001b[39;49m\u001b[38;5;241;43m*\u001b[39;49m\u001b[43mkwargs\u001b[49m\u001b[43m)\u001b[49m\n",
      "File \u001b[0;32m/gpfs/home5/adelamaza/patent/patent-graph/.venv/lib64/python3.11/site-packages/torch/nn/modules/module.py:1762\u001b[0m, in \u001b[0;36mModule._call_impl\u001b[0;34m(self, *args, **kwargs)\u001b[0m\n\u001b[1;32m   1757\u001b[0m \u001b[38;5;66;03m# If we don't have any hooks, we want to skip the rest of the logic in\u001b[39;00m\n\u001b[1;32m   1758\u001b[0m \u001b[38;5;66;03m# this function, and just call forward.\u001b[39;00m\n\u001b[1;32m   1759\u001b[0m \u001b[38;5;28;01mif\u001b[39;00m \u001b[38;5;129;01mnot\u001b[39;00m (\u001b[38;5;28mself\u001b[39m\u001b[38;5;241m.\u001b[39m_backward_hooks \u001b[38;5;129;01mor\u001b[39;00m \u001b[38;5;28mself\u001b[39m\u001b[38;5;241m.\u001b[39m_backward_pre_hooks \u001b[38;5;129;01mor\u001b[39;00m \u001b[38;5;28mself\u001b[39m\u001b[38;5;241m.\u001b[39m_forward_hooks \u001b[38;5;129;01mor\u001b[39;00m \u001b[38;5;28mself\u001b[39m\u001b[38;5;241m.\u001b[39m_forward_pre_hooks\n\u001b[1;32m   1760\u001b[0m         \u001b[38;5;129;01mor\u001b[39;00m _global_backward_pre_hooks \u001b[38;5;129;01mor\u001b[39;00m _global_backward_hooks\n\u001b[1;32m   1761\u001b[0m         \u001b[38;5;129;01mor\u001b[39;00m _global_forward_hooks \u001b[38;5;129;01mor\u001b[39;00m _global_forward_pre_hooks):\n\u001b[0;32m-> 1762\u001b[0m     \u001b[38;5;28;01mreturn\u001b[39;00m \u001b[43mforward_call\u001b[49m\u001b[43m(\u001b[49m\u001b[38;5;241;43m*\u001b[39;49m\u001b[43margs\u001b[49m\u001b[43m,\u001b[49m\u001b[43m \u001b[49m\u001b[38;5;241;43m*\u001b[39;49m\u001b[38;5;241;43m*\u001b[39;49m\u001b[43mkwargs\u001b[49m\u001b[43m)\u001b[49m\n\u001b[1;32m   1764\u001b[0m result \u001b[38;5;241m=\u001b[39m \u001b[38;5;28;01mNone\u001b[39;00m\n\u001b[1;32m   1765\u001b[0m called_always_called_hooks \u001b[38;5;241m=\u001b[39m \u001b[38;5;28mset\u001b[39m()\n",
      "Cell \u001b[0;32mIn[22], line 52\u001b[0m, in \u001b[0;36mMultiPositiveContrastiveLoss.forward\u001b[0;34m(self, feats, anchor_paths)\u001b[0m\n\u001b[1;32m     48\u001b[0m ce \u001b[38;5;241m=\u001b[39m \u001b[38;5;241m0.5\u001b[39m\u001b[38;5;241m*\u001b[39m((\u001b[38;5;241m-\u001b[39m(P\u001b[38;5;241m*\u001b[39mtorch\u001b[38;5;241m.\u001b[39mlog(Q\u001b[38;5;241m+\u001b[39m\u001b[38;5;241m1e-7\u001b[39m))\u001b[38;5;241m.\u001b[39msum(\u001b[38;5;241m1\u001b[39m))\u001b[38;5;241m.\u001b[39mmean()\n\u001b[1;32m     49\u001b[0m          \u001b[38;5;241m+\u001b[39m(\u001b[38;5;241m-\u001b[39m(P\u001b[38;5;241m.\u001b[39mT\u001b[38;5;241m*\u001b[39mtorch\u001b[38;5;241m.\u001b[39mlog(Q\u001b[38;5;241m.\u001b[39mT\u001b[38;5;241m+\u001b[39m\u001b[38;5;241m1e-7\u001b[39m))\u001b[38;5;241m.\u001b[39msum(\u001b[38;5;241m1\u001b[39m))\u001b[38;5;241m.\u001b[39mmean())\n\u001b[1;32m     51\u001b[0m \u001b[38;5;66;03m# graph side\u001b[39;00m\n\u001b[0;32m---> 52\u001b[0m idx \u001b[38;5;241m=\u001b[39m \u001b[43mtorch\u001b[49m\u001b[38;5;241;43m.\u001b[39;49m\u001b[43mtensor\u001b[49m\u001b[43m(\u001b[49m\u001b[43m[\u001b[49m\u001b[38;5;28;43mself\u001b[39;49m\u001b[38;5;241;43m.\u001b[39;49m\u001b[43mgraph_id_map\u001b[49m\u001b[43m[\u001b[49m\u001b[43mp\u001b[49m\u001b[43m[\u001b[49m\u001b[38;5;241;43m24\u001b[39;49m\u001b[43m:\u001b[49m\u001b[43m]\u001b[49m\u001b[43m]\u001b[49m\u001b[43m \u001b[49m\u001b[38;5;28;43;01mfor\u001b[39;49;00m\u001b[43m \u001b[49m\u001b[43mp\u001b[49m\u001b[43m \u001b[49m\u001b[38;5;129;43;01min\u001b[39;49;00m\u001b[43m \u001b[49m\u001b[43manchor_paths\u001b[49m\u001b[43m]\u001b[49m\u001b[43m,\u001b[49m\n\u001b[1;32m     53\u001b[0m \u001b[43m                   \u001b[49m\u001b[43mdevice\u001b[49m\u001b[38;5;241;43m=\u001b[39;49m\u001b[38;5;28;43mself\u001b[39;49m\u001b[38;5;241;43m.\u001b[39;49m\u001b[43mdevice\u001b[49m\u001b[43m)\u001b[49m\n\u001b[1;32m     54\u001b[0m g \u001b[38;5;241m=\u001b[39m \u001b[38;5;28mself\u001b[39m\u001b[38;5;241m.\u001b[39m_proj_g(\u001b[38;5;28mself\u001b[39m\u001b[38;5;241m.\u001b[39membedding(idx))     \u001b[38;5;66;03m# (B,256)\u001b[39;00m\n\u001b[1;32m     55\u001b[0m a \u001b[38;5;241m=\u001b[39m z[:B]\n",
      "\u001b[0;31mKeyboardInterrupt\u001b[0m: "
     ]
    }
   ],
   "source": [
    "from torch.optim import AdamW\n",
    "epochs=8\n",
    "model_name='fine_tuned_clip_model_ge_hier_a01_t01_pp'\n",
    "import math, torch\n",
    "import torch.nn as nn\n",
    "import torch.nn.functional as F\n",
    "\n",
    "class MultiPositiveContrastiveLoss(nn.Module):\n",
    "    \"\"\"\n",
    "    • Image  projection: 512 → 256\n",
    "    • Graph  projection: 512 → 256  (independent weights)\n",
    "    \"\"\"\n",
    "    def __init__(self, graph_id_map, vgae_matrix,\n",
    "                 alpha_max=0.1, init_tau=0.10, device=None):\n",
    "        super().__init__()\n",
    "        self.device, self.alpha_max, self.alpha = device, alpha_max, 0.0\n",
    "\n",
    "        # learnable temperature\n",
    "        self.logit_scale = nn.Parameter(torch.tensor(math.log(1.0 / init_tau)))\n",
    "\n",
    "        # learnable node embeddings table (init from VGAE)\n",
    "        self.embedding   = nn.Embedding.from_pretrained(\n",
    "            torch.tensor(vgae_matrix, dtype=torch.float), freeze=False)\n",
    "        self.graph_id_map = graph_id_map\n",
    "\n",
    "        # two independent projectors\n",
    "        self.img_fc   = nn.Sequential(\n",
    "            nn.Linear(512, 128), nn.ReLU(), nn.Dropout(0.1))\n",
    "        self.graph_fc = nn.Sequential(\n",
    "            nn.Linear(128, 128), nn.ReLU(), nn.Dropout(0.1))\n",
    "\n",
    "    def _proj_img(self, x):   return F.normalize(self.img_fc(x),   p=2, dim=1)\n",
    "    def _proj_g  (self, x):   return F.normalize(self.graph_fc(x), p=2, dim=1)\n",
    "\n",
    "    def forward(self, feats, anchor_paths):\n",
    "        N, B = feats.size(0), feats.size(0)//2\n",
    "        z = self._proj_img(feats)                 # (2B,256)\n",
    "\n",
    "        # contrastive NT-Xent\n",
    "        scale  = self.logit_scale.exp().clamp(max=100)\n",
    "        logits = z @ z.T * scale\n",
    "        lbl    = torch.arange(N, device=z.device) % B\n",
    "        P      = (lbl[:,None]==lbl[None,:]).float()\n",
    "        eye    = torch.eye(N, device=z.device)\n",
    "        P.masked_fill_(eye.bool(),0); logits.masked_fill_(eye.bool(),-1e9)\n",
    "        P = P / P.sum(1, keepdim=True).clamp(min=1e-8)\n",
    "        Q = F.softmax(logits,dim=1)\n",
    "        ce = 0.5*((-(P*torch.log(Q+1e-7)).sum(1)).mean()\n",
    "                 +(-(P.T*torch.log(Q.T+1e-7)).sum(1)).mean())\n",
    "\n",
    "        # graph side\n",
    "        idx = torch.tensor([self.graph_id_map[p[24:]] for p in anchor_paths],\n",
    "                           device=self.device)\n",
    "        g = self._proj_g(self.embedding(idx))     # (B,256)\n",
    "        a = z[:B]\n",
    "        align = 1 - F.cosine_similarity(a, g, dim=1).mean()\n",
    "\n",
    "        loss = (1-self.alpha)*ce + self.alpha*align\n",
    "        return loss, ce, align\n",
    "\n",
    "\n",
    "\n",
    "class ImageDataset(Dataset):\n",
    "    def __init__(self, anchor_paths, positive_paths, transform=None):\n",
    "        self.anchor_paths = anchor_paths\n",
    "        self.positive_paths = positive_paths\n",
    "        self.transform = transform\n",
    "\n",
    "    def __len__(self):\n",
    "        return len(self.anchor_paths)\n",
    "\n",
    "    def __getitem__(self, idx):\n",
    "        # Load anchor and positive images using torchvision.io\n",
    "        anchor_image = torchvision.io.read_image(self.anchor_paths[idx])\n",
    "        positive_image = torchvision.io.read_image(self.positive_paths[idx])\n",
    "        \n",
    "        # Convert to float and normalize to [0, 1]\n",
    "        anchor_image = anchor_image.float() / 255.0\n",
    "        positive_image = positive_image.float() / 255.0\n",
    "        \n",
    "        # Handle grayscale images (1 channel) by repeating to 3 channels\n",
    "        if anchor_image.shape[0] == 1:\n",
    "            anchor_image = anchor_image.repeat(3, 1, 1)\n",
    "        if positive_image.shape[0] == 1:\n",
    "            positive_image = positive_image.repeat(3, 1, 1)\n",
    "            \n",
    "        # Ensure we have 3 channels (RGB)\n",
    "        if anchor_image.shape[0] == 4:  # RGBA\n",
    "            anchor_image = anchor_image[:3]  # Take only RGB channels\n",
    "        if positive_image.shape[0] == 4:  # RGBA\n",
    "            positive_image = positive_image[:3]  # Take only RGB channels\n",
    "        \n",
    "        if self.transform:\n",
    "            anchor_image = self.transform(anchor_image)\n",
    "            positive_image = self.transform(positive_image)\n",
    "            \n",
    "        return anchor_image, positive_image\n",
    "        \n",
    "def validate(model, loader, crit, device):\n",
    "    model.eval()\n",
    "    tot = ce_tot = al_tot = 0.0\n",
    "    with torch.no_grad():\n",
    "        for b,(anc,pos) in enumerate(tqdm(loader, desc=\"Validating\", leave=False)):\n",
    "            imgs  = torch.cat([anc.to(device), pos.to(device)], 0)\n",
    "            feats = model.get_image_features(imgs)\n",
    "            start = b*loader.batch_size\n",
    "            paths = loader.dataset.anchor_paths[start:start+anc.size(0)]\n",
    "            loss, ce, al = crit(feats, paths)\n",
    "            tot += loss.item(); ce_tot += ce.item(); al_tot += al.item()\n",
    "    n=len(loader)\n",
    "    return tot/n, ce_tot/n, al_tot/n\n",
    "\n",
    "\n",
    "def fine_tune_clip(model, train_loader, val_loader, device,model_name, num_epochs=10):\n",
    "    \"\"\"\n",
    "    Fine-tune CLIP model using Multi-Positive Contrastive Loss with validation\n",
    "    \"\"\"\n",
    "    model.train()\n",
    "    criterion = MultiPositiveContrastiveLoss(\n",
    "    graph_id_map=graph_id_map,\n",
    "    vgae_matrix=vgae_matrix,\n",
    "    alpha_max=0.1,\n",
    "    init_tau=0.10,\n",
    "    device=device,\n",
    "    ).to(device)\n",
    "\n",
    "\n",
    "        # ---------------- OPTIMIZER (no duplicates) -----------------\n",
    "    embed = list(criterion.embedding.parameters())\n",
    "    logit = [criterion.logit_scale]          # single scalar\n",
    "    other = [p for n,p in criterion.named_parameters()\n",
    "            if not n.startswith(\"embedding.\") and n!=\"logit_scale\"]\n",
    "\n",
    "    optimizer = AdamW(\n",
    "    [\n",
    "      {\"params\": model.parameters(), \"lr\":2e-5},\n",
    "      {\"params\": other,  \"lr\":2e-4},\n",
    "      {\"params\": embed,  \"lr\":1e-4},\n",
    "      {\"params\": logit,  \"lr\":5e-4},     # <-- faster τ\n",
    "    ], weight_decay=1e-2)\n",
    "\n",
    "    best_val_loss = float('inf')\n",
    "    step = 0\n",
    "    \n",
    "    for epoch in range(num_epochs):\n",
    "        # Training phase\n",
    "        model.train()\n",
    "        total_loss = 0\n",
    "        if epoch < 5:          # warm-up for 5 epochs instead of 3\n",
    "            criterion.alpha = criterion.alpha_max * (epoch+1)/5\n",
    "        else:\n",
    "            criterion.alpha = criterion.alpha_max\n",
    "        for batch_idx, (anchors, positives) in enumerate(tqdm(train_loader, desc=f\"Epoch {epoch+1}/{num_epochs}\")):\n",
    "            # Move images to device\n",
    "            anchors = anchors.to(device)\n",
    "            positives = positives.to(device)\n",
    "            \n",
    "            # Combine anchors and positives\n",
    "            combined_images = torch.cat([anchors, positives], dim=0)\n",
    "            \n",
    "            optimizer.zero_grad()\n",
    "            \n",
    "            # Get features for all images\n",
    "            features = model.get_image_features(combined_images)\n",
    "\n",
    "            # Get image paths for all images\n",
    "            image_paths = train_loader.dataset.anchor_paths[batch_idx*train_loader.batch_size:(batch_idx+1)*train_loader.batch_size] \n",
    "        \n",
    "            # Calculate multi-positive contrastive loss with graph embedding alignment term\n",
    "            loss, cross_loss, graph_alignment_loss = criterion(features, image_paths)\n",
    "\n",
    "            loss.backward()\n",
    "            optimizer.step()\n",
    "            \n",
    "            total_loss += loss.item()\n",
    "            \n",
    "            if batch_idx % 20 == 0:\n",
    "                print(f\"Epoch {epoch+1}/{num_epochs}, Batch {batch_idx}, Loss: {loss.item():.4f}, Cross-Entropy loss: {cross_loss:.4f}, Graph loss: {graph_alignment_loss:.4f}\")\n",
    "                step += 20\n",
    "                wandb.log({\n",
    "                    \"train/loss\": loss, \n",
    "                    \"train/cross_entropy_loss\": cross_loss, \n",
    "                    \"train/graph_loss\": graph_alignment_loss\n",
    "                }, step=step, commit=True)\n",
    "            if batch_idx % 60 == 0:\n",
    "                # Validation phase\n",
    "                val_loss, val_cross_loss, val_graph_loss = validate(model, val_loader, criterion, device)\n",
    "                \n",
    "                # Log validation metrics\n",
    "                wandb.log({\n",
    "                    \"val/loss\": val_loss,\n",
    "                    \"val/cross_entropy_loss\": val_cross_loss,\n",
    "                    \"val/graph_loss\": val_graph_loss,\n",
    "                    \"epoch\": epoch + 1\n",
    "                }, commit=True)\n",
    "                \n",
    "                print(f\"Epoch {epoch+1}/{num_epochs}, Train Loss: {total_loss/len(train_loader):.4f}, Val Loss: {val_loss:.4f}\")\n",
    "                print(f\"Val Cross-Entropy Loss: {val_cross_loss:.4f}, Val Graph Loss: {val_graph_loss:.4f}\")\n",
    "            if val_loss < best_val_loss:\n",
    "                    best_val_loss = val_loss\n",
    "                    print(f\"New best model found with validation loss: {best_val_loss:.4f}\")\n",
    "                    # Save the best model\n",
    "                    model.save_pretrained(f\"models/patent-wise/{model_name}_best\")\n",
    "                    \n",
    "                    # Optionally save metadata about the best model\n",
    "                    best_model_info = {\n",
    "                        \"epoch\": epoch + 1,\n",
    "                        \"batch\": batch_idx,\n",
    "                        \"val_loss\": best_val_loss,\n",
    "                        \"val_cross_loss\": val_cross_loss,\n",
    "                        \"val_graph_loss\": val_graph_loss\n",
    "                    }\n",
    "                    \n",
    "                    # Save the best model info as JSON\n",
    "                    with open(f\"models/patent-wise/{model_name}_best_info.json\", 'w') as f:\n",
    "                        json.dump(best_model_info, f, indent=4)\n",
    "        \n",
    "        # Full validation at the end of each epoch\n",
    "        val_loss, val_cross_loss, val_graph_loss = validate(model, val_loader, criterion, device)\n",
    "         \n",
    "        # Log end-of-epoch validation metrics\n",
    "        wandb.log({\n",
    "            \"epoch_val/loss\": val_loss,\n",
    "            \"epoch_val/cross_entropy_loss\": val_cross_loss,\n",
    "            \"epoch_val/graph_loss\": val_graph_loss,\n",
    "            \"epoch\": epoch + 1\n",
    "        }, commit=True)\n",
    "        \n",
    "        print(f\"End of Epoch {epoch+1}/{num_epochs}, Train Loss: {total_loss/len(train_loader):.4f}, Val Loss: {val_loss:.4f}\")\n",
    "        \n",
    "        # Check if this epoch's model is the best so far\n",
    "        if val_loss < best_val_loss:\n",
    "            best_val_loss = val_loss\n",
    "            print(f\"New best model found at end of epoch {epoch+1} with validation loss: {best_val_loss:.4f}\")\n",
    "            # Save the best model\n",
    "            model.save_pretrained(f\"models/patent-wise/{model_name}_best\")\n",
    "            \n",
    "            # Update best model info\n",
    "            best_model_info = {\n",
    "                \"epoch\": epoch + 1,\n",
    "                \"batch\": \"end_of_epoch\",\n",
    "                \"val_loss\": best_val_loss,\n",
    "                \"val_cross_loss\": val_cross_loss,\n",
    "                \"val_graph_loss\": val_graph_loss\n",
    "            }\n",
    "            \n",
    "            # Save the best model info\n",
    "            with open(f\"models/patent-wise/{model_name}_best_info.json\", 'w') as f:\n",
    "                json.dump(best_model_info, f, indent=4)\n",
    "    \n",
    "    # At the end of training, also save the final model\n",
    "    model.save_pretrained(f\"models/patent-wise/{model_name}_final\")\n",
    "\n",
    "    wandb.finish()\n",
    "\n",
    "def main():\n",
    "    wandb.login()\n",
    "    wandb.init(\n",
    "        entity=\"alvarodelamaza-vrije-universiteit-amsterdam\",\n",
    "        project=\"alvaro-master-thesis-tkh\",\n",
    "        config={\n",
    "            \"learning_rate\": 2e-5,\n",
    "            \"batch_size\": 128,\n",
    "            \"temperature\": 0.07,\n",
    "            \"architecture\": \"CLIP\",\n",
    "            \"dataset\": \"DeepPatnet2\",\n",
    "            \"training\": \"Patent\",\n",
    "            \"epochs\": epochs,\n",
    "            \"alpha\": 0.0,  # Add alpha to config for tracking\n",
    "        }\n",
    "    )\n",
    "    \n",
    "    # Import datetime for timestamping best model info\n",
    "    import datetime\n",
    "    \n",
    "    # Set device\n",
    "    device = torch.device('cuda' if torch.cuda.is_available() else 'cpu')\n",
    "    \n",
    "    # Load CLIP model\n",
    "    model = CLIPModel.from_pretrained(\"openai/clip-vit-base-patch16\").to(device)\n",
    "    \n",
    "    # Define transforms for tensor inputs\n",
    "    transform = transforms.Compose([\n",
    "        transforms.Resize((224, 224)),\n",
    "        transforms.RandomHorizontalFlip(),\n",
    "        transforms.Normalize(\n",
    "            mean=[0.48145466, 0.4578275, 0.40821073],\n",
    "            std=[0.26862954, 0.26130258, 0.27577711]\n",
    "        )\n",
    "    ])\n",
    "    \n",
    "    # Load your data paths\n",
    "    training_folder = \"../data/2018/test_gallery\"\n",
    "    training_query_folder = \"../data/2018/test_query\"\n",
    "    valid_extensions = {'.jpg', '.jpeg', '.png', '.JPG', '.JPEG', '.PNG'}\n",
    "\n",
    "    # Get image paths\n",
    "    all_query_image_paths = [str(path) for path in Path(training_query_folder).rglob(\"*\") \n",
    "                           if path.suffix in valid_extensions]\n",
    "    \n",
    "    # Load ground truth\n",
    "    with open('../data/2018/ground_truth_2018_cpc.json', 'r') as f:\n",
    "        ground_truth = json.load(f)\n",
    "    \n",
    "    # Create anchor and positive pairs\n",
    "    anchor_image_paths = []\n",
    "    positive_image_paths = []\n",
    "\n",
    "    for path in tqdm(all_query_image_paths):\n",
    "        # Parse the date from the file path\n",
    "        date_str = Path(path).name.split('-')[1]\n",
    "        year = int(date_str[:4])\n",
    "        month = int(date_str[4:6])\n",
    "        day = int(date_str[6:8])\n",
    "        \n",
    "        # Check if the date is before May and in image_dict\n",
    "        if month <= 5 and path[24:] in list(image_dict.keys()):\n",
    "            positives = ground_truth.get(Path(path).name, {}).get('patent_positives', [])\n",
    "            if positives:\n",
    "                anchor_image_paths.append(path)\n",
    "                positive_image_paths.append(str(Path(training_query_folder) / positives[0]))\n",
    "    \n",
    "    print(f\"Total eligible pairs: {len(anchor_image_paths)}\")\n",
    "    \n",
    "    # Replace the random split with patent-aware split\n",
    "    train_anchor_paths, train_positive_paths, val_anchor_paths, val_positive_paths = create_patent_aware_split(\n",
    "        anchor_image_paths, positive_image_paths, val_ratio=0.1\n",
    "    )\n",
    "\n",
    "    # Verify there's no overlap\n",
    "    overlap_count, _ = check_patent_overlap(train_anchor_paths, val_anchor_paths)\n",
    "    assert overlap_count == 0, \"Patent overlap detected despite patent-aware split!\"\n",
    "\n",
    "    # If you want to ensure no overlap, you can modify your split strategy\n",
    "    if overlap_count > 0:\n",
    "        print(\"Warning: Patent overlap detected between training and validation sets!\")\n",
    "    \n",
    "    print(f\"Training pairs: {len(train_anchor_paths)}\")\n",
    "    print(f\"Validation pairs: {len(val_anchor_paths)}\")\n",
    "    \n",
    "    # Create datasets and dataloaders\n",
    "    train_dataset = ImageDataset(train_anchor_paths, train_positive_paths, transform)\n",
    "    val_dataset = ImageDataset(val_anchor_paths, val_positive_paths, transform)\n",
    "    \n",
    "    train_loader = DataLoader(\n",
    "        train_dataset,\n",
    "        batch_size=128,\n",
    "        shuffle=True,\n",
    "        num_workers=18,\n",
    "        pin_memory=True,  \n",
    "        prefetch_factor=16,  \n",
    "        persistent_workers=True,\n",
    "        drop_last=True\n",
    "    )\n",
    "    \n",
    "    val_loader = DataLoader(\n",
    "        val_dataset,\n",
    "        batch_size=128,\n",
    "        shuffle=True,  # Changed to False - no need to shuffle validation data\n",
    "        num_workers=16,\n",
    "        pin_memory=True,\n",
    "        persistent_workers=True,\n",
    "        drop_last=False  # Keep all validation samples\n",
    "    )\n",
    "    \n",
    "    # Freeze base model and unfreeze specific layers\n",
    "    for param in model.parameters():\n",
    "        param.requires_grad = False\n",
    "    \n",
    "    # Unfreeze last few layers of vision encoder\n",
    "    for param in model.vision_model.encoder.layers[-9:].parameters():\n",
    "        param.requires_grad = True\n",
    "    \n",
    "    \n",
    "    \n",
    "    # Create directory if it doesn't exist\n",
    "    os.makedirs(\"models/patent-wise\", exist_ok=True)\n",
    "    \n",
    "    # Train the model with validation and save the best model\n",
    "    best_val_loss = fine_tune_clip(model, train_loader, val_loader,  device,  model_name, epochs)\n",
    "    \n",
    "    # Log the best validation loss to wandb\n",
    "    wandb.log({\"best_val_loss\": best_val_loss})\n",
    "    \n",
    "if __name__ == \"__main__\":\n",
    "    main()\n",
    "    "
   ]
  },
  {
   "cell_type": "code",
   "execution_count": null,
   "metadata": {},
   "outputs": [],
   "source": []
  },
  {
   "cell_type": "code",
   "execution_count": 19,
   "metadata": {},
   "outputs": [],
   "source": [
    "wandb.finish()"
   ]
  },
  {
   "cell_type": "code",
   "execution_count": null,
   "metadata": {},
   "outputs": [],
   "source": []
  }
 ],
 "metadata": {
  "kernelspec": {
   "display_name": "Python (alvaro-thesis-py3.11)",
   "language": "python",
   "name": "alvaro-thesis-py3.11"
  },
  "language_info": {
   "codemirror_mode": {
    "name": "ipython",
    "version": 3
   },
   "file_extension": ".py",
   "mimetype": "text/x-python",
   "name": "python",
   "nbconvert_exporter": "python",
   "pygments_lexer": "ipython3",
   "version": "3.11.7"
  }
 },
 "nbformat": 4,
 "nbformat_minor": 2
}
